{
  "cells": [
    {
      "cell_type": "markdown",
      "metadata": {
        "id": "kItmG424zhBP"
      },
      "source": [
        " ![Super lender.png](data:image/png;base64,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)"
      ]
    },
    {
      "cell_type": "code",
      "execution_count": 1,
      "metadata": {
        "id": "q21mmmHAzm7j"
      },
      "outputs": [],
      "source": [
        "import pandas as pd\n",
        "import seaborn as sns\n",
        "import matplotlib.pyplot as plt\n",
        "import plotly.express as px\n",
        "from datetime import datetime\n",
        "#Import libraries\n"
      ]
    },
    {
      "cell_type": "code",
      "execution_count": 2,
      "metadata": {
        "id": "qIwC0NOg0XNV"
      },
      "outputs": [],
      "source": [
        "#Importing all the data-set provided\n",
        "dem_train=pd.read_csv(\"/content/dem_train.csv\")\n",
        "dem_test= pd.read_csv(\"/content/dem_test.csv\")\n",
        "perf_train=pd.read_csv(\"/content/perf_train.csv\")\n",
        "perf_test=pd.read_csv(\"/content/perf_test.csv\")\n",
        "prev_train=pd.read_csv(\"/content/prev_train.csv\")\n",
        "prev_test=pd.read_csv(\"/content/prev_test.csv\")\n",
        "\n",
        "#Note that .._test and .._train are data set for the training and test set respectively"
      ]
    },
    {
      "cell_type": "code",
      "execution_count": 3,
      "metadata": {
        "colab": {
          "base_uri": "https://localhost:8080/",
          "height": 652
        },
        "id": "y0xonmLQwwgt",
        "outputId": "daa2ba6d-67e4-42e8-fd74-4f3824a20b16"
      },
      "outputs": [
        {
          "output_type": "stream",
          "name": "stdout",
          "text": [
            "<class 'pandas.core.frame.DataFrame'>\n",
            "RangeIndex: 4346 entries, 0 to 4345\n",
            "Data columns (total 9 columns):\n",
            " #   Column                      Non-Null Count  Dtype  \n",
            "---  ------                      --------------  -----  \n",
            " 0   customerid                  4346 non-null   object \n",
            " 1   birthdate                   4346 non-null   object \n",
            " 2   bank_account_type           4346 non-null   object \n",
            " 3   longitude_gps               4346 non-null   float64\n",
            " 4   latitude_gps                4346 non-null   float64\n",
            " 5   bank_name_clients           4346 non-null   object \n",
            " 6   bank_branch_clients         51 non-null     object \n",
            " 7   employment_status_clients   3698 non-null   object \n",
            " 8   level_of_education_clients  587 non-null    object \n",
            "dtypes: float64(2), object(7)\n",
            "memory usage: 305.7+ KB\n"
          ]
        },
        {
          "output_type": "execute_result",
          "data": {
            "text/plain": [
              "                         customerid                   birthdate  \\\n",
              "0  8a858e135cb22031015cbafc76964ebd  1973-10-10 00:00:00.000000   \n",
              "1  8a858e275c7ea5ec015c82482d7c3996  1986-01-21 00:00:00.000000   \n",
              "2  8a858e5b5bd99460015bdc95cd485634  1987-04-01 00:00:00.000000   \n",
              "3  8a858efd5ca70688015cabd1f1e94b55  1991-07-19 00:00:00.000000   \n",
              "4  8a858e785acd3412015acd48f4920d04  1982-11-22 00:00:00.000000   \n",
              "\n",
              "  bank_account_type  longitude_gps  latitude_gps bank_name_clients  \\\n",
              "0           Savings       3.319219      6.528604           GT Bank   \n",
              "1           Savings       3.325598      7.119403     Sterling Bank   \n",
              "2           Savings       5.746100      5.563174     Fidelity Bank   \n",
              "3           Savings       3.362850      6.642485           GT Bank   \n",
              "4           Savings       8.455332     11.971410           GT Bank   \n",
              "\n",
              "  bank_branch_clients employment_status_clients level_of_education_clients  \n",
              "0                 NaN                       NaN                        NaN  \n",
              "1                 NaN                 Permanent                        NaN  \n",
              "2                 NaN                       NaN                        NaN  \n",
              "3                 NaN                 Permanent                        NaN  \n",
              "4                 NaN                 Permanent                        NaN  "
            ],
            "text/html": [
              "\n",
              "  <div id=\"df-0a8e07f9-f68b-46ba-b3cf-d226468ab1ba\">\n",
              "    <div class=\"colab-df-container\">\n",
              "      <div>\n",
              "<style scoped>\n",
              "    .dataframe tbody tr th:only-of-type {\n",
              "        vertical-align: middle;\n",
              "    }\n",
              "\n",
              "    .dataframe tbody tr th {\n",
              "        vertical-align: top;\n",
              "    }\n",
              "\n",
              "    .dataframe thead th {\n",
              "        text-align: right;\n",
              "    }\n",
              "</style>\n",
              "<table border=\"1\" class=\"dataframe\">\n",
              "  <thead>\n",
              "    <tr style=\"text-align: right;\">\n",
              "      <th></th>\n",
              "      <th>customerid</th>\n",
              "      <th>birthdate</th>\n",
              "      <th>bank_account_type</th>\n",
              "      <th>longitude_gps</th>\n",
              "      <th>latitude_gps</th>\n",
              "      <th>bank_name_clients</th>\n",
              "      <th>bank_branch_clients</th>\n",
              "      <th>employment_status_clients</th>\n",
              "      <th>level_of_education_clients</th>\n",
              "    </tr>\n",
              "  </thead>\n",
              "  <tbody>\n",
              "    <tr>\n",
              "      <th>0</th>\n",
              "      <td>8a858e135cb22031015cbafc76964ebd</td>\n",
              "      <td>1973-10-10 00:00:00.000000</td>\n",
              "      <td>Savings</td>\n",
              "      <td>3.319219</td>\n",
              "      <td>6.528604</td>\n",
              "      <td>GT Bank</td>\n",
              "      <td>NaN</td>\n",
              "      <td>NaN</td>\n",
              "      <td>NaN</td>\n",
              "    </tr>\n",
              "    <tr>\n",
              "      <th>1</th>\n",
              "      <td>8a858e275c7ea5ec015c82482d7c3996</td>\n",
              "      <td>1986-01-21 00:00:00.000000</td>\n",
              "      <td>Savings</td>\n",
              "      <td>3.325598</td>\n",
              "      <td>7.119403</td>\n",
              "      <td>Sterling Bank</td>\n",
              "      <td>NaN</td>\n",
              "      <td>Permanent</td>\n",
              "      <td>NaN</td>\n",
              "    </tr>\n",
              "    <tr>\n",
              "      <th>2</th>\n",
              "      <td>8a858e5b5bd99460015bdc95cd485634</td>\n",
              "      <td>1987-04-01 00:00:00.000000</td>\n",
              "      <td>Savings</td>\n",
              "      <td>5.746100</td>\n",
              "      <td>5.563174</td>\n",
              "      <td>Fidelity Bank</td>\n",
              "      <td>NaN</td>\n",
              "      <td>NaN</td>\n",
              "      <td>NaN</td>\n",
              "    </tr>\n",
              "    <tr>\n",
              "      <th>3</th>\n",
              "      <td>8a858efd5ca70688015cabd1f1e94b55</td>\n",
              "      <td>1991-07-19 00:00:00.000000</td>\n",
              "      <td>Savings</td>\n",
              "      <td>3.362850</td>\n",
              "      <td>6.642485</td>\n",
              "      <td>GT Bank</td>\n",
              "      <td>NaN</td>\n",
              "      <td>Permanent</td>\n",
              "      <td>NaN</td>\n",
              "    </tr>\n",
              "    <tr>\n",
              "      <th>4</th>\n",
              "      <td>8a858e785acd3412015acd48f4920d04</td>\n",
              "      <td>1982-11-22 00:00:00.000000</td>\n",
              "      <td>Savings</td>\n",
              "      <td>8.455332</td>\n",
              "      <td>11.971410</td>\n",
              "      <td>GT Bank</td>\n",
              "      <td>NaN</td>\n",
              "      <td>Permanent</td>\n",
              "      <td>NaN</td>\n",
              "    </tr>\n",
              "  </tbody>\n",
              "</table>\n",
              "</div>\n",
              "      <button class=\"colab-df-convert\" onclick=\"convertToInteractive('df-0a8e07f9-f68b-46ba-b3cf-d226468ab1ba')\"\n",
              "              title=\"Convert this dataframe to an interactive table.\"\n",
              "              style=\"display:none;\">\n",
              "        \n",
              "  <svg xmlns=\"http://www.w3.org/2000/svg\" height=\"24px\"viewBox=\"0 0 24 24\"\n",
              "       width=\"24px\">\n",
              "    <path d=\"M0 0h24v24H0V0z\" fill=\"none\"/>\n",
              "    <path d=\"M18.56 5.44l.94 2.06.94-2.06 2.06-.94-2.06-.94-.94-2.06-.94 2.06-2.06.94zm-11 1L8.5 8.5l.94-2.06 2.06-.94-2.06-.94L8.5 2.5l-.94 2.06-2.06.94zm10 10l.94 2.06.94-2.06 2.06-.94-2.06-.94-.94-2.06-.94 2.06-2.06.94z\"/><path d=\"M17.41 7.96l-1.37-1.37c-.4-.4-.92-.59-1.43-.59-.52 0-1.04.2-1.43.59L10.3 9.45l-7.72 7.72c-.78.78-.78 2.05 0 2.83L4 21.41c.39.39.9.59 1.41.59.51 0 1.02-.2 1.41-.59l7.78-7.78 2.81-2.81c.8-.78.8-2.07 0-2.86zM5.41 20L4 18.59l7.72-7.72 1.47 1.35L5.41 20z\"/>\n",
              "  </svg>\n",
              "      </button>\n",
              "      \n",
              "  <style>\n",
              "    .colab-df-container {\n",
              "      display:flex;\n",
              "      flex-wrap:wrap;\n",
              "      gap: 12px;\n",
              "    }\n",
              "\n",
              "    .colab-df-convert {\n",
              "      background-color: #E8F0FE;\n",
              "      border: none;\n",
              "      border-radius: 50%;\n",
              "      cursor: pointer;\n",
              "      display: none;\n",
              "      fill: #1967D2;\n",
              "      height: 32px;\n",
              "      padding: 0 0 0 0;\n",
              "      width: 32px;\n",
              "    }\n",
              "\n",
              "    .colab-df-convert:hover {\n",
              "      background-color: #E2EBFA;\n",
              "      box-shadow: 0px 1px 2px rgba(60, 64, 67, 0.3), 0px 1px 3px 1px rgba(60, 64, 67, 0.15);\n",
              "      fill: #174EA6;\n",
              "    }\n",
              "\n",
              "    [theme=dark] .colab-df-convert {\n",
              "      background-color: #3B4455;\n",
              "      fill: #D2E3FC;\n",
              "    }\n",
              "\n",
              "    [theme=dark] .colab-df-convert:hover {\n",
              "      background-color: #434B5C;\n",
              "      box-shadow: 0px 1px 3px 1px rgba(0, 0, 0, 0.15);\n",
              "      filter: drop-shadow(0px 1px 2px rgba(0, 0, 0, 0.3));\n",
              "      fill: #FFFFFF;\n",
              "    }\n",
              "  </style>\n",
              "\n",
              "      <script>\n",
              "        const buttonEl =\n",
              "          document.querySelector('#df-0a8e07f9-f68b-46ba-b3cf-d226468ab1ba button.colab-df-convert');\n",
              "        buttonEl.style.display =\n",
              "          google.colab.kernel.accessAllowed ? 'block' : 'none';\n",
              "\n",
              "        async function convertToInteractive(key) {\n",
              "          const element = document.querySelector('#df-0a8e07f9-f68b-46ba-b3cf-d226468ab1ba');\n",
              "          const dataTable =\n",
              "            await google.colab.kernel.invokeFunction('convertToInteractive',\n",
              "                                                     [key], {});\n",
              "          if (!dataTable) return;\n",
              "\n",
              "          const docLinkHtml = 'Like what you see? Visit the ' +\n",
              "            '<a target=\"_blank\" href=https://colab.research.google.com/notebooks/data_table.ipynb>data table notebook</a>'\n",
              "            + ' to learn more about interactive tables.';\n",
              "          element.innerHTML = '';\n",
              "          dataTable['output_type'] = 'display_data';\n",
              "          await google.colab.output.renderOutput(dataTable, element);\n",
              "          const docLink = document.createElement('div');\n",
              "          docLink.innerHTML = docLinkHtml;\n",
              "          element.appendChild(docLink);\n",
              "        }\n",
              "      </script>\n",
              "    </div>\n",
              "  </div>\n",
              "  "
            ]
          },
          "metadata": {},
          "execution_count": 3
        }
      ],
      "source": [
        "dem_train.info()\n",
        "dem_train.head()\n",
        "#checking the info for the Demographic training data(dem_train), note that same data sturcture are in demographic test data (dem_test)"
      ]
    },
    {
      "cell_type": "code",
      "execution_count": 4,
      "metadata": {
        "colab": {
          "base_uri": "https://localhost:8080/",
          "height": 520
        },
        "id": "dkFkSxc7yp18",
        "outputId": "09a4226d-f212-436c-fca2-0ba382fc91e8"
      },
      "outputs": [
        {
          "output_type": "stream",
          "name": "stdout",
          "text": [
            "<class 'pandas.core.frame.DataFrame'>\n",
            "RangeIndex: 4368 entries, 0 to 4367\n",
            "Data columns (total 10 columns):\n",
            " #   Column         Non-Null Count  Dtype  \n",
            "---  ------         --------------  -----  \n",
            " 0   customerid     4368 non-null   object \n",
            " 1   systemloanid   4368 non-null   int64  \n",
            " 2   loannumber     4368 non-null   int64  \n",
            " 3   approveddate   4368 non-null   object \n",
            " 4   creationdate   4368 non-null   object \n",
            " 5   loanamount     4368 non-null   float64\n",
            " 6   totaldue       4368 non-null   float64\n",
            " 7   termdays       4368 non-null   int64  \n",
            " 8   referredby     587 non-null    object \n",
            " 9   good_bad_flag  4368 non-null   object \n",
            "dtypes: float64(2), int64(3), object(5)\n",
            "memory usage: 341.4+ KB\n"
          ]
        },
        {
          "output_type": "execute_result",
          "data": {
            "text/plain": [
              "                         customerid  systemloanid  loannumber  \\\n",
              "0  8a2a81a74ce8c05d014cfb32a0da1049     301994762          12   \n",
              "1  8a85886e54beabf90154c0a29ae757c0     301965204           2   \n",
              "2  8a8588f35438fe12015444567666018e     301966580           7   \n",
              "3  8a85890754145ace015429211b513e16     301999343           3   \n",
              "4  8a858970548359cc0154883481981866     301962360           9   \n",
              "\n",
              "                 approveddate                creationdate  loanamount  \\\n",
              "0  2017-07-25 08:22:56.000000  2017-07-25 07:22:47.000000     30000.0   \n",
              "1  2017-07-05 17:04:41.000000  2017-07-05 16:04:18.000000     15000.0   \n",
              "2  2017-07-06 14:52:57.000000  2017-07-06 13:52:51.000000     20000.0   \n",
              "3  2017-07-27 19:00:41.000000  2017-07-27 18:00:35.000000     10000.0   \n",
              "4  2017-07-03 23:42:45.000000  2017-07-03 22:42:39.000000     40000.0   \n",
              "\n",
              "   totaldue  termdays referredby good_bad_flag  \n",
              "0   34500.0        30        NaN          Good  \n",
              "1   17250.0        30        NaN          Good  \n",
              "2   22250.0        15        NaN          Good  \n",
              "3   11500.0        15        NaN          Good  \n",
              "4   44000.0        30        NaN          Good  "
            ],
            "text/html": [
              "\n",
              "  <div id=\"df-bc083f05-d73e-4528-bf37-8c385c10e825\">\n",
              "    <div class=\"colab-df-container\">\n",
              "      <div>\n",
              "<style scoped>\n",
              "    .dataframe tbody tr th:only-of-type {\n",
              "        vertical-align: middle;\n",
              "    }\n",
              "\n",
              "    .dataframe tbody tr th {\n",
              "        vertical-align: top;\n",
              "    }\n",
              "\n",
              "    .dataframe thead th {\n",
              "        text-align: right;\n",
              "    }\n",
              "</style>\n",
              "<table border=\"1\" class=\"dataframe\">\n",
              "  <thead>\n",
              "    <tr style=\"text-align: right;\">\n",
              "      <th></th>\n",
              "      <th>customerid</th>\n",
              "      <th>systemloanid</th>\n",
              "      <th>loannumber</th>\n",
              "      <th>approveddate</th>\n",
              "      <th>creationdate</th>\n",
              "      <th>loanamount</th>\n",
              "      <th>totaldue</th>\n",
              "      <th>termdays</th>\n",
              "      <th>referredby</th>\n",
              "      <th>good_bad_flag</th>\n",
              "    </tr>\n",
              "  </thead>\n",
              "  <tbody>\n",
              "    <tr>\n",
              "      <th>0</th>\n",
              "      <td>8a2a81a74ce8c05d014cfb32a0da1049</td>\n",
              "      <td>301994762</td>\n",
              "      <td>12</td>\n",
              "      <td>2017-07-25 08:22:56.000000</td>\n",
              "      <td>2017-07-25 07:22:47.000000</td>\n",
              "      <td>30000.0</td>\n",
              "      <td>34500.0</td>\n",
              "      <td>30</td>\n",
              "      <td>NaN</td>\n",
              "      <td>Good</td>\n",
              "    </tr>\n",
              "    <tr>\n",
              "      <th>1</th>\n",
              "      <td>8a85886e54beabf90154c0a29ae757c0</td>\n",
              "      <td>301965204</td>\n",
              "      <td>2</td>\n",
              "      <td>2017-07-05 17:04:41.000000</td>\n",
              "      <td>2017-07-05 16:04:18.000000</td>\n",
              "      <td>15000.0</td>\n",
              "      <td>17250.0</td>\n",
              "      <td>30</td>\n",
              "      <td>NaN</td>\n",
              "      <td>Good</td>\n",
              "    </tr>\n",
              "    <tr>\n",
              "      <th>2</th>\n",
              "      <td>8a8588f35438fe12015444567666018e</td>\n",
              "      <td>301966580</td>\n",
              "      <td>7</td>\n",
              "      <td>2017-07-06 14:52:57.000000</td>\n",
              "      <td>2017-07-06 13:52:51.000000</td>\n",
              "      <td>20000.0</td>\n",
              "      <td>22250.0</td>\n",
              "      <td>15</td>\n",
              "      <td>NaN</td>\n",
              "      <td>Good</td>\n",
              "    </tr>\n",
              "    <tr>\n",
              "      <th>3</th>\n",
              "      <td>8a85890754145ace015429211b513e16</td>\n",
              "      <td>301999343</td>\n",
              "      <td>3</td>\n",
              "      <td>2017-07-27 19:00:41.000000</td>\n",
              "      <td>2017-07-27 18:00:35.000000</td>\n",
              "      <td>10000.0</td>\n",
              "      <td>11500.0</td>\n",
              "      <td>15</td>\n",
              "      <td>NaN</td>\n",
              "      <td>Good</td>\n",
              "    </tr>\n",
              "    <tr>\n",
              "      <th>4</th>\n",
              "      <td>8a858970548359cc0154883481981866</td>\n",
              "      <td>301962360</td>\n",
              "      <td>9</td>\n",
              "      <td>2017-07-03 23:42:45.000000</td>\n",
              "      <td>2017-07-03 22:42:39.000000</td>\n",
              "      <td>40000.0</td>\n",
              "      <td>44000.0</td>\n",
              "      <td>30</td>\n",
              "      <td>NaN</td>\n",
              "      <td>Good</td>\n",
              "    </tr>\n",
              "  </tbody>\n",
              "</table>\n",
              "</div>\n",
              "      <button class=\"colab-df-convert\" onclick=\"convertToInteractive('df-bc083f05-d73e-4528-bf37-8c385c10e825')\"\n",
              "              title=\"Convert this dataframe to an interactive table.\"\n",
              "              style=\"display:none;\">\n",
              "        \n",
              "  <svg xmlns=\"http://www.w3.org/2000/svg\" height=\"24px\"viewBox=\"0 0 24 24\"\n",
              "       width=\"24px\">\n",
              "    <path d=\"M0 0h24v24H0V0z\" fill=\"none\"/>\n",
              "    <path d=\"M18.56 5.44l.94 2.06.94-2.06 2.06-.94-2.06-.94-.94-2.06-.94 2.06-2.06.94zm-11 1L8.5 8.5l.94-2.06 2.06-.94-2.06-.94L8.5 2.5l-.94 2.06-2.06.94zm10 10l.94 2.06.94-2.06 2.06-.94-2.06-.94-.94-2.06-.94 2.06-2.06.94z\"/><path d=\"M17.41 7.96l-1.37-1.37c-.4-.4-.92-.59-1.43-.59-.52 0-1.04.2-1.43.59L10.3 9.45l-7.72 7.72c-.78.78-.78 2.05 0 2.83L4 21.41c.39.39.9.59 1.41.59.51 0 1.02-.2 1.41-.59l7.78-7.78 2.81-2.81c.8-.78.8-2.07 0-2.86zM5.41 20L4 18.59l7.72-7.72 1.47 1.35L5.41 20z\"/>\n",
              "  </svg>\n",
              "      </button>\n",
              "      \n",
              "  <style>\n",
              "    .colab-df-container {\n",
              "      display:flex;\n",
              "      flex-wrap:wrap;\n",
              "      gap: 12px;\n",
              "    }\n",
              "\n",
              "    .colab-df-convert {\n",
              "      background-color: #E8F0FE;\n",
              "      border: none;\n",
              "      border-radius: 50%;\n",
              "      cursor: pointer;\n",
              "      display: none;\n",
              "      fill: #1967D2;\n",
              "      height: 32px;\n",
              "      padding: 0 0 0 0;\n",
              "      width: 32px;\n",
              "    }\n",
              "\n",
              "    .colab-df-convert:hover {\n",
              "      background-color: #E2EBFA;\n",
              "      box-shadow: 0px 1px 2px rgba(60, 64, 67, 0.3), 0px 1px 3px 1px rgba(60, 64, 67, 0.15);\n",
              "      fill: #174EA6;\n",
              "    }\n",
              "\n",
              "    [theme=dark] .colab-df-convert {\n",
              "      background-color: #3B4455;\n",
              "      fill: #D2E3FC;\n",
              "    }\n",
              "\n",
              "    [theme=dark] .colab-df-convert:hover {\n",
              "      background-color: #434B5C;\n",
              "      box-shadow: 0px 1px 3px 1px rgba(0, 0, 0, 0.15);\n",
              "      filter: drop-shadow(0px 1px 2px rgba(0, 0, 0, 0.3));\n",
              "      fill: #FFFFFF;\n",
              "    }\n",
              "  </style>\n",
              "\n",
              "      <script>\n",
              "        const buttonEl =\n",
              "          document.querySelector('#df-bc083f05-d73e-4528-bf37-8c385c10e825 button.colab-df-convert');\n",
              "        buttonEl.style.display =\n",
              "          google.colab.kernel.accessAllowed ? 'block' : 'none';\n",
              "\n",
              "        async function convertToInteractive(key) {\n",
              "          const element = document.querySelector('#df-bc083f05-d73e-4528-bf37-8c385c10e825');\n",
              "          const dataTable =\n",
              "            await google.colab.kernel.invokeFunction('convertToInteractive',\n",
              "                                                     [key], {});\n",
              "          if (!dataTable) return;\n",
              "\n",
              "          const docLinkHtml = 'Like what you see? Visit the ' +\n",
              "            '<a target=\"_blank\" href=https://colab.research.google.com/notebooks/data_table.ipynb>data table notebook</a>'\n",
              "            + ' to learn more about interactive tables.';\n",
              "          element.innerHTML = '';\n",
              "          dataTable['output_type'] = 'display_data';\n",
              "          await google.colab.output.renderOutput(dataTable, element);\n",
              "          const docLink = document.createElement('div');\n",
              "          docLink.innerHTML = docLinkHtml;\n",
              "          element.appendChild(docLink);\n",
              "        }\n",
              "      </script>\n",
              "    </div>\n",
              "  </div>\n",
              "  "
            ]
          },
          "metadata": {},
          "execution_count": 4
        }
      ],
      "source": [
        "perf_train.info()\n",
        "perf_train.head()\n",
        "#checking the info for the  Performance training data(perf_train), note that same data sturcture are in  Performance test data (perf_test)"
      ]
    },
    {
      "cell_type": "code",
      "execution_count": 5,
      "metadata": {
        "colab": {
          "base_uri": "https://localhost:8080/",
          "height": 707
        },
        "id": "k8M7vduwzFsJ",
        "outputId": "3a4cd312-16cc-4139-c5a3-fb2602a21b5f"
      },
      "outputs": [
        {
          "output_type": "stream",
          "name": "stdout",
          "text": [
            "<class 'pandas.core.frame.DataFrame'>\n",
            "RangeIndex: 18183 entries, 0 to 18182\n",
            "Data columns (total 12 columns):\n",
            " #   Column           Non-Null Count  Dtype  \n",
            "---  ------           --------------  -----  \n",
            " 0   customerid       18183 non-null  object \n",
            " 1   systemloanid     18183 non-null  int64  \n",
            " 2   loannumber       18183 non-null  int64  \n",
            " 3   approveddate     18183 non-null  object \n",
            " 4   creationdate     18183 non-null  object \n",
            " 5   loanamount       18183 non-null  float64\n",
            " 6   totaldue         18183 non-null  float64\n",
            " 7   termdays         18183 non-null  int64  \n",
            " 8   closeddate       18183 non-null  object \n",
            " 9   referredby       1026 non-null   object \n",
            " 10  firstduedate     18183 non-null  object \n",
            " 11  firstrepaiddate  18183 non-null  object \n",
            "dtypes: float64(2), int64(3), object(7)\n",
            "memory usage: 1.7+ MB\n"
          ]
        },
        {
          "output_type": "execute_result",
          "data": {
            "text/plain": [
              "                         customerid  systemloanid  loannumber  \\\n",
              "0  8a2a81a74ce8c05d014cfb32a0da1049     301682320           2   \n",
              "1  8a2a81a74ce8c05d014cfb32a0da1049     301883808           9   \n",
              "2  8a2a81a74ce8c05d014cfb32a0da1049     301831714           8   \n",
              "3  8a8588f35438fe12015444567666018e     301861541           5   \n",
              "4  8a85890754145ace015429211b513e16     301941754           2   \n",
              "\n",
              "                 approveddate                creationdate  loanamount  \\\n",
              "0  2016-08-15 18:22:40.000000  2016-08-15 17:22:32.000000     10000.0   \n",
              "1  2017-04-28 18:39:07.000000  2017-04-28 17:38:53.000000     10000.0   \n",
              "2  2017-03-05 10:56:25.000000  2017-03-05 09:56:19.000000     20000.0   \n",
              "3  2017-04-09 18:25:55.000000  2017-04-09 17:25:42.000000     10000.0   \n",
              "4  2017-06-17 09:29:57.000000  2017-06-17 08:29:50.000000     10000.0   \n",
              "\n",
              "   totaldue  termdays                  closeddate referredby  \\\n",
              "0   13000.0        30  2016-09-01 16:06:48.000000        NaN   \n",
              "1   13000.0        30  2017-05-28 14:44:49.000000        NaN   \n",
              "2   23800.0        30  2017-04-26 22:18:56.000000        NaN   \n",
              "3   11500.0        15  2017-04-24 01:35:52.000000        NaN   \n",
              "4   11500.0        15  2017-07-14 21:18:43.000000        NaN   \n",
              "\n",
              "                 firstduedate             firstrepaiddate  \n",
              "0  2016-09-14 00:00:00.000000  2016-09-01 15:51:43.000000  \n",
              "1  2017-05-30 00:00:00.000000  2017-05-26 00:00:00.000000  \n",
              "2  2017-04-04 00:00:00.000000  2017-04-26 22:03:47.000000  \n",
              "3  2017-04-24 00:00:00.000000  2017-04-24 00:48:43.000000  \n",
              "4  2017-07-03 00:00:00.000000  2017-07-14 21:08:35.000000  "
            ],
            "text/html": [
              "\n",
              "  <div id=\"df-dfe78134-e7ac-47ef-9c98-25f47ea7b12f\">\n",
              "    <div class=\"colab-df-container\">\n",
              "      <div>\n",
              "<style scoped>\n",
              "    .dataframe tbody tr th:only-of-type {\n",
              "        vertical-align: middle;\n",
              "    }\n",
              "\n",
              "    .dataframe tbody tr th {\n",
              "        vertical-align: top;\n",
              "    }\n",
              "\n",
              "    .dataframe thead th {\n",
              "        text-align: right;\n",
              "    }\n",
              "</style>\n",
              "<table border=\"1\" class=\"dataframe\">\n",
              "  <thead>\n",
              "    <tr style=\"text-align: right;\">\n",
              "      <th></th>\n",
              "      <th>customerid</th>\n",
              "      <th>systemloanid</th>\n",
              "      <th>loannumber</th>\n",
              "      <th>approveddate</th>\n",
              "      <th>creationdate</th>\n",
              "      <th>loanamount</th>\n",
              "      <th>totaldue</th>\n",
              "      <th>termdays</th>\n",
              "      <th>closeddate</th>\n",
              "      <th>referredby</th>\n",
              "      <th>firstduedate</th>\n",
              "      <th>firstrepaiddate</th>\n",
              "    </tr>\n",
              "  </thead>\n",
              "  <tbody>\n",
              "    <tr>\n",
              "      <th>0</th>\n",
              "      <td>8a2a81a74ce8c05d014cfb32a0da1049</td>\n",
              "      <td>301682320</td>\n",
              "      <td>2</td>\n",
              "      <td>2016-08-15 18:22:40.000000</td>\n",
              "      <td>2016-08-15 17:22:32.000000</td>\n",
              "      <td>10000.0</td>\n",
              "      <td>13000.0</td>\n",
              "      <td>30</td>\n",
              "      <td>2016-09-01 16:06:48.000000</td>\n",
              "      <td>NaN</td>\n",
              "      <td>2016-09-14 00:00:00.000000</td>\n",
              "      <td>2016-09-01 15:51:43.000000</td>\n",
              "    </tr>\n",
              "    <tr>\n",
              "      <th>1</th>\n",
              "      <td>8a2a81a74ce8c05d014cfb32a0da1049</td>\n",
              "      <td>301883808</td>\n",
              "      <td>9</td>\n",
              "      <td>2017-04-28 18:39:07.000000</td>\n",
              "      <td>2017-04-28 17:38:53.000000</td>\n",
              "      <td>10000.0</td>\n",
              "      <td>13000.0</td>\n",
              "      <td>30</td>\n",
              "      <td>2017-05-28 14:44:49.000000</td>\n",
              "      <td>NaN</td>\n",
              "      <td>2017-05-30 00:00:00.000000</td>\n",
              "      <td>2017-05-26 00:00:00.000000</td>\n",
              "    </tr>\n",
              "    <tr>\n",
              "      <th>2</th>\n",
              "      <td>8a2a81a74ce8c05d014cfb32a0da1049</td>\n",
              "      <td>301831714</td>\n",
              "      <td>8</td>\n",
              "      <td>2017-03-05 10:56:25.000000</td>\n",
              "      <td>2017-03-05 09:56:19.000000</td>\n",
              "      <td>20000.0</td>\n",
              "      <td>23800.0</td>\n",
              "      <td>30</td>\n",
              "      <td>2017-04-26 22:18:56.000000</td>\n",
              "      <td>NaN</td>\n",
              "      <td>2017-04-04 00:00:00.000000</td>\n",
              "      <td>2017-04-26 22:03:47.000000</td>\n",
              "    </tr>\n",
              "    <tr>\n",
              "      <th>3</th>\n",
              "      <td>8a8588f35438fe12015444567666018e</td>\n",
              "      <td>301861541</td>\n",
              "      <td>5</td>\n",
              "      <td>2017-04-09 18:25:55.000000</td>\n",
              "      <td>2017-04-09 17:25:42.000000</td>\n",
              "      <td>10000.0</td>\n",
              "      <td>11500.0</td>\n",
              "      <td>15</td>\n",
              "      <td>2017-04-24 01:35:52.000000</td>\n",
              "      <td>NaN</td>\n",
              "      <td>2017-04-24 00:00:00.000000</td>\n",
              "      <td>2017-04-24 00:48:43.000000</td>\n",
              "    </tr>\n",
              "    <tr>\n",
              "      <th>4</th>\n",
              "      <td>8a85890754145ace015429211b513e16</td>\n",
              "      <td>301941754</td>\n",
              "      <td>2</td>\n",
              "      <td>2017-06-17 09:29:57.000000</td>\n",
              "      <td>2017-06-17 08:29:50.000000</td>\n",
              "      <td>10000.0</td>\n",
              "      <td>11500.0</td>\n",
              "      <td>15</td>\n",
              "      <td>2017-07-14 21:18:43.000000</td>\n",
              "      <td>NaN</td>\n",
              "      <td>2017-07-03 00:00:00.000000</td>\n",
              "      <td>2017-07-14 21:08:35.000000</td>\n",
              "    </tr>\n",
              "  </tbody>\n",
              "</table>\n",
              "</div>\n",
              "      <button class=\"colab-df-convert\" onclick=\"convertToInteractive('df-dfe78134-e7ac-47ef-9c98-25f47ea7b12f')\"\n",
              "              title=\"Convert this dataframe to an interactive table.\"\n",
              "              style=\"display:none;\">\n",
              "        \n",
              "  <svg xmlns=\"http://www.w3.org/2000/svg\" height=\"24px\"viewBox=\"0 0 24 24\"\n",
              "       width=\"24px\">\n",
              "    <path d=\"M0 0h24v24H0V0z\" fill=\"none\"/>\n",
              "    <path d=\"M18.56 5.44l.94 2.06.94-2.06 2.06-.94-2.06-.94-.94-2.06-.94 2.06-2.06.94zm-11 1L8.5 8.5l.94-2.06 2.06-.94-2.06-.94L8.5 2.5l-.94 2.06-2.06.94zm10 10l.94 2.06.94-2.06 2.06-.94-2.06-.94-.94-2.06-.94 2.06-2.06.94z\"/><path d=\"M17.41 7.96l-1.37-1.37c-.4-.4-.92-.59-1.43-.59-.52 0-1.04.2-1.43.59L10.3 9.45l-7.72 7.72c-.78.78-.78 2.05 0 2.83L4 21.41c.39.39.9.59 1.41.59.51 0 1.02-.2 1.41-.59l7.78-7.78 2.81-2.81c.8-.78.8-2.07 0-2.86zM5.41 20L4 18.59l7.72-7.72 1.47 1.35L5.41 20z\"/>\n",
              "  </svg>\n",
              "      </button>\n",
              "      \n",
              "  <style>\n",
              "    .colab-df-container {\n",
              "      display:flex;\n",
              "      flex-wrap:wrap;\n",
              "      gap: 12px;\n",
              "    }\n",
              "\n",
              "    .colab-df-convert {\n",
              "      background-color: #E8F0FE;\n",
              "      border: none;\n",
              "      border-radius: 50%;\n",
              "      cursor: pointer;\n",
              "      display: none;\n",
              "      fill: #1967D2;\n",
              "      height: 32px;\n",
              "      padding: 0 0 0 0;\n",
              "      width: 32px;\n",
              "    }\n",
              "\n",
              "    .colab-df-convert:hover {\n",
              "      background-color: #E2EBFA;\n",
              "      box-shadow: 0px 1px 2px rgba(60, 64, 67, 0.3), 0px 1px 3px 1px rgba(60, 64, 67, 0.15);\n",
              "      fill: #174EA6;\n",
              "    }\n",
              "\n",
              "    [theme=dark] .colab-df-convert {\n",
              "      background-color: #3B4455;\n",
              "      fill: #D2E3FC;\n",
              "    }\n",
              "\n",
              "    [theme=dark] .colab-df-convert:hover {\n",
              "      background-color: #434B5C;\n",
              "      box-shadow: 0px 1px 3px 1px rgba(0, 0, 0, 0.15);\n",
              "      filter: drop-shadow(0px 1px 2px rgba(0, 0, 0, 0.3));\n",
              "      fill: #FFFFFF;\n",
              "    }\n",
              "  </style>\n",
              "\n",
              "      <script>\n",
              "        const buttonEl =\n",
              "          document.querySelector('#df-dfe78134-e7ac-47ef-9c98-25f47ea7b12f button.colab-df-convert');\n",
              "        buttonEl.style.display =\n",
              "          google.colab.kernel.accessAllowed ? 'block' : 'none';\n",
              "\n",
              "        async function convertToInteractive(key) {\n",
              "          const element = document.querySelector('#df-dfe78134-e7ac-47ef-9c98-25f47ea7b12f');\n",
              "          const dataTable =\n",
              "            await google.colab.kernel.invokeFunction('convertToInteractive',\n",
              "                                                     [key], {});\n",
              "          if (!dataTable) return;\n",
              "\n",
              "          const docLinkHtml = 'Like what you see? Visit the ' +\n",
              "            '<a target=\"_blank\" href=https://colab.research.google.com/notebooks/data_table.ipynb>data table notebook</a>'\n",
              "            + ' to learn more about interactive tables.';\n",
              "          element.innerHTML = '';\n",
              "          dataTable['output_type'] = 'display_data';\n",
              "          await google.colab.output.renderOutput(dataTable, element);\n",
              "          const docLink = document.createElement('div');\n",
              "          docLink.innerHTML = docLinkHtml;\n",
              "          element.appendChild(docLink);\n",
              "        }\n",
              "      </script>\n",
              "    </div>\n",
              "  </div>\n",
              "  "
            ]
          },
          "metadata": {},
          "execution_count": 5
        }
      ],
      "source": [
        "prev_train.info()\n",
        "prev_train.head()\n",
        "#checking the info for the Previous loans data data(prev_train), note that same data sturcture are in Previous loans data data (prev_test)"
      ]
    },
    {
      "cell_type": "markdown",
      "metadata": {
        "id": "J9av1O6gCIvL"
      },
      "source": [
        "\n",
        "**Data Preprocessing 1**\n"
      ]
    },
    {
      "cell_type": "code",
      "execution_count": 6,
      "metadata": {
        "id": "9drC5pBdGyzI"
      },
      "outputs": [],
      "source": [
        "perf_train= perf_train.drop([\"referredby\"], axis= 1)\n",
        "perf_test= perf_test.drop([\"creationdate\",\"approveddate\",\"referredby\"], axis= 1)\n"
      ]
    },
    {
      "cell_type": "code",
      "execution_count": 7,
      "metadata": {
        "id": "Bc9oJXTKNBm0"
      },
      "outputs": [],
      "source": [
        "Train_Data= pd.merge(perf_train,prev_train[\"firstduedate\"], left_index= True, right_index= True)\n",
        "Train_Data= pd.merge(Train_Data, prev_train[\"closeddate\"], left_index= True, right_index= True)\n",
        "Train_Data= pd.merge(Train_Data, prev_train[\"firstrepaiddate\"], left_index= True, right_index= True)\n",
        "Train_Data= pd.merge(Train_Data, dem_train[\"birthdate\"], left_index= True, right_index= True)\n",
        "Train_Data= pd.merge(Train_Data, dem_train[\"longitude_gps\"], left_index= True, right_index= True)\n",
        "Train_Data= pd.merge(Train_Data, dem_train[\"latitude_gps\"], left_index= True, right_index= True)\n",
        "Train_Data= pd.merge(Train_Data, dem_train[\"bank_name_clients\"], left_index= True, right_index= True)\n",
        "Train_Data= pd.merge(Train_Data, dem_train[\"bank_account_type\"], left_index= True, right_index= True)\n",
        "#Merging the Data features from other Training Data CSV files into a new data file (Train_Data)\n"
      ]
    },
    {
      "cell_type": "code",
      "execution_count": 8,
      "metadata": {
        "colab": {
          "base_uri": "https://localhost:8080/",
          "height": 800
        },
        "id": "gW2KOJtmNwF0",
        "outputId": "822bc556-4987-4063-bb13-38c427e44f79"
      },
      "outputs": [
        {
          "output_type": "stream",
          "name": "stdout",
          "text": [
            "<class 'pandas.core.frame.DataFrame'>\n",
            "Int64Index: 4346 entries, 0 to 4345\n",
            "Data columns (total 17 columns):\n",
            " #   Column             Non-Null Count  Dtype  \n",
            "---  ------             --------------  -----  \n",
            " 0   customerid         4346 non-null   object \n",
            " 1   systemloanid       4346 non-null   int64  \n",
            " 2   loannumber         4346 non-null   int64  \n",
            " 3   approveddate       4346 non-null   object \n",
            " 4   creationdate       4346 non-null   object \n",
            " 5   loanamount         4346 non-null   float64\n",
            " 6   totaldue           4346 non-null   float64\n",
            " 7   termdays           4346 non-null   int64  \n",
            " 8   good_bad_flag      4346 non-null   object \n",
            " 9   firstduedate       4346 non-null   object \n",
            " 10  closeddate         4346 non-null   object \n",
            " 11  firstrepaiddate    4346 non-null   object \n",
            " 12  birthdate          4346 non-null   object \n",
            " 13  longitude_gps      4346 non-null   float64\n",
            " 14  latitude_gps       4346 non-null   float64\n",
            " 15  bank_name_clients  4346 non-null   object \n",
            " 16  bank_account_type  4346 non-null   object \n",
            "dtypes: float64(4), int64(3), object(10)\n",
            "memory usage: 740.2+ KB\n"
          ]
        },
        {
          "output_type": "execute_result",
          "data": {
            "text/plain": [
              "                         customerid  systemloanid  loannumber  \\\n",
              "0  8a2a81a74ce8c05d014cfb32a0da1049     301994762          12   \n",
              "1  8a85886e54beabf90154c0a29ae757c0     301965204           2   \n",
              "2  8a8588f35438fe12015444567666018e     301966580           7   \n",
              "3  8a85890754145ace015429211b513e16     301999343           3   \n",
              "4  8a858970548359cc0154883481981866     301962360           9   \n",
              "\n",
              "                 approveddate                creationdate  loanamount  \\\n",
              "0  2017-07-25 08:22:56.000000  2017-07-25 07:22:47.000000     30000.0   \n",
              "1  2017-07-05 17:04:41.000000  2017-07-05 16:04:18.000000     15000.0   \n",
              "2  2017-07-06 14:52:57.000000  2017-07-06 13:52:51.000000     20000.0   \n",
              "3  2017-07-27 19:00:41.000000  2017-07-27 18:00:35.000000     10000.0   \n",
              "4  2017-07-03 23:42:45.000000  2017-07-03 22:42:39.000000     40000.0   \n",
              "\n",
              "   totaldue  termdays good_bad_flag                firstduedate  \\\n",
              "0   34500.0        30          Good  2016-09-14 00:00:00.000000   \n",
              "1   17250.0        30          Good  2017-05-30 00:00:00.000000   \n",
              "2   22250.0        15          Good  2017-04-04 00:00:00.000000   \n",
              "3   11500.0        15          Good  2017-04-24 00:00:00.000000   \n",
              "4   44000.0        30          Good  2017-07-03 00:00:00.000000   \n",
              "\n",
              "                   closeddate             firstrepaiddate  \\\n",
              "0  2016-09-01 16:06:48.000000  2016-09-01 15:51:43.000000   \n",
              "1  2017-05-28 14:44:49.000000  2017-05-26 00:00:00.000000   \n",
              "2  2017-04-26 22:18:56.000000  2017-04-26 22:03:47.000000   \n",
              "3  2017-04-24 01:35:52.000000  2017-04-24 00:48:43.000000   \n",
              "4  2017-07-14 21:18:43.000000  2017-07-14 21:08:35.000000   \n",
              "\n",
              "                    birthdate  longitude_gps  latitude_gps bank_name_clients  \\\n",
              "0  1973-10-10 00:00:00.000000       3.319219      6.528604           GT Bank   \n",
              "1  1986-01-21 00:00:00.000000       3.325598      7.119403     Sterling Bank   \n",
              "2  1987-04-01 00:00:00.000000       5.746100      5.563174     Fidelity Bank   \n",
              "3  1991-07-19 00:00:00.000000       3.362850      6.642485           GT Bank   \n",
              "4  1982-11-22 00:00:00.000000       8.455332     11.971410           GT Bank   \n",
              "\n",
              "  bank_account_type  \n",
              "0           Savings  \n",
              "1           Savings  \n",
              "2           Savings  \n",
              "3           Savings  \n",
              "4           Savings  "
            ],
            "text/html": [
              "\n",
              "  <div id=\"df-d3beab97-5262-4c09-9422-bcf8d09d58fc\">\n",
              "    <div class=\"colab-df-container\">\n",
              "      <div>\n",
              "<style scoped>\n",
              "    .dataframe tbody tr th:only-of-type {\n",
              "        vertical-align: middle;\n",
              "    }\n",
              "\n",
              "    .dataframe tbody tr th {\n",
              "        vertical-align: top;\n",
              "    }\n",
              "\n",
              "    .dataframe thead th {\n",
              "        text-align: right;\n",
              "    }\n",
              "</style>\n",
              "<table border=\"1\" class=\"dataframe\">\n",
              "  <thead>\n",
              "    <tr style=\"text-align: right;\">\n",
              "      <th></th>\n",
              "      <th>customerid</th>\n",
              "      <th>systemloanid</th>\n",
              "      <th>loannumber</th>\n",
              "      <th>approveddate</th>\n",
              "      <th>creationdate</th>\n",
              "      <th>loanamount</th>\n",
              "      <th>totaldue</th>\n",
              "      <th>termdays</th>\n",
              "      <th>good_bad_flag</th>\n",
              "      <th>firstduedate</th>\n",
              "      <th>closeddate</th>\n",
              "      <th>firstrepaiddate</th>\n",
              "      <th>birthdate</th>\n",
              "      <th>longitude_gps</th>\n",
              "      <th>latitude_gps</th>\n",
              "      <th>bank_name_clients</th>\n",
              "      <th>bank_account_type</th>\n",
              "    </tr>\n",
              "  </thead>\n",
              "  <tbody>\n",
              "    <tr>\n",
              "      <th>0</th>\n",
              "      <td>8a2a81a74ce8c05d014cfb32a0da1049</td>\n",
              "      <td>301994762</td>\n",
              "      <td>12</td>\n",
              "      <td>2017-07-25 08:22:56.000000</td>\n",
              "      <td>2017-07-25 07:22:47.000000</td>\n",
              "      <td>30000.0</td>\n",
              "      <td>34500.0</td>\n",
              "      <td>30</td>\n",
              "      <td>Good</td>\n",
              "      <td>2016-09-14 00:00:00.000000</td>\n",
              "      <td>2016-09-01 16:06:48.000000</td>\n",
              "      <td>2016-09-01 15:51:43.000000</td>\n",
              "      <td>1973-10-10 00:00:00.000000</td>\n",
              "      <td>3.319219</td>\n",
              "      <td>6.528604</td>\n",
              "      <td>GT Bank</td>\n",
              "      <td>Savings</td>\n",
              "    </tr>\n",
              "    <tr>\n",
              "      <th>1</th>\n",
              "      <td>8a85886e54beabf90154c0a29ae757c0</td>\n",
              "      <td>301965204</td>\n",
              "      <td>2</td>\n",
              "      <td>2017-07-05 17:04:41.000000</td>\n",
              "      <td>2017-07-05 16:04:18.000000</td>\n",
              "      <td>15000.0</td>\n",
              "      <td>17250.0</td>\n",
              "      <td>30</td>\n",
              "      <td>Good</td>\n",
              "      <td>2017-05-30 00:00:00.000000</td>\n",
              "      <td>2017-05-28 14:44:49.000000</td>\n",
              "      <td>2017-05-26 00:00:00.000000</td>\n",
              "      <td>1986-01-21 00:00:00.000000</td>\n",
              "      <td>3.325598</td>\n",
              "      <td>7.119403</td>\n",
              "      <td>Sterling Bank</td>\n",
              "      <td>Savings</td>\n",
              "    </tr>\n",
              "    <tr>\n",
              "      <th>2</th>\n",
              "      <td>8a8588f35438fe12015444567666018e</td>\n",
              "      <td>301966580</td>\n",
              "      <td>7</td>\n",
              "      <td>2017-07-06 14:52:57.000000</td>\n",
              "      <td>2017-07-06 13:52:51.000000</td>\n",
              "      <td>20000.0</td>\n",
              "      <td>22250.0</td>\n",
              "      <td>15</td>\n",
              "      <td>Good</td>\n",
              "      <td>2017-04-04 00:00:00.000000</td>\n",
              "      <td>2017-04-26 22:18:56.000000</td>\n",
              "      <td>2017-04-26 22:03:47.000000</td>\n",
              "      <td>1987-04-01 00:00:00.000000</td>\n",
              "      <td>5.746100</td>\n",
              "      <td>5.563174</td>\n",
              "      <td>Fidelity Bank</td>\n",
              "      <td>Savings</td>\n",
              "    </tr>\n",
              "    <tr>\n",
              "      <th>3</th>\n",
              "      <td>8a85890754145ace015429211b513e16</td>\n",
              "      <td>301999343</td>\n",
              "      <td>3</td>\n",
              "      <td>2017-07-27 19:00:41.000000</td>\n",
              "      <td>2017-07-27 18:00:35.000000</td>\n",
              "      <td>10000.0</td>\n",
              "      <td>11500.0</td>\n",
              "      <td>15</td>\n",
              "      <td>Good</td>\n",
              "      <td>2017-04-24 00:00:00.000000</td>\n",
              "      <td>2017-04-24 01:35:52.000000</td>\n",
              "      <td>2017-04-24 00:48:43.000000</td>\n",
              "      <td>1991-07-19 00:00:00.000000</td>\n",
              "      <td>3.362850</td>\n",
              "      <td>6.642485</td>\n",
              "      <td>GT Bank</td>\n",
              "      <td>Savings</td>\n",
              "    </tr>\n",
              "    <tr>\n",
              "      <th>4</th>\n",
              "      <td>8a858970548359cc0154883481981866</td>\n",
              "      <td>301962360</td>\n",
              "      <td>9</td>\n",
              "      <td>2017-07-03 23:42:45.000000</td>\n",
              "      <td>2017-07-03 22:42:39.000000</td>\n",
              "      <td>40000.0</td>\n",
              "      <td>44000.0</td>\n",
              "      <td>30</td>\n",
              "      <td>Good</td>\n",
              "      <td>2017-07-03 00:00:00.000000</td>\n",
              "      <td>2017-07-14 21:18:43.000000</td>\n",
              "      <td>2017-07-14 21:08:35.000000</td>\n",
              "      <td>1982-11-22 00:00:00.000000</td>\n",
              "      <td>8.455332</td>\n",
              "      <td>11.971410</td>\n",
              "      <td>GT Bank</td>\n",
              "      <td>Savings</td>\n",
              "    </tr>\n",
              "  </tbody>\n",
              "</table>\n",
              "</div>\n",
              "      <button class=\"colab-df-convert\" onclick=\"convertToInteractive('df-d3beab97-5262-4c09-9422-bcf8d09d58fc')\"\n",
              "              title=\"Convert this dataframe to an interactive table.\"\n",
              "              style=\"display:none;\">\n",
              "        \n",
              "  <svg xmlns=\"http://www.w3.org/2000/svg\" height=\"24px\"viewBox=\"0 0 24 24\"\n",
              "       width=\"24px\">\n",
              "    <path d=\"M0 0h24v24H0V0z\" fill=\"none\"/>\n",
              "    <path d=\"M18.56 5.44l.94 2.06.94-2.06 2.06-.94-2.06-.94-.94-2.06-.94 2.06-2.06.94zm-11 1L8.5 8.5l.94-2.06 2.06-.94-2.06-.94L8.5 2.5l-.94 2.06-2.06.94zm10 10l.94 2.06.94-2.06 2.06-.94-2.06-.94-.94-2.06-.94 2.06-2.06.94z\"/><path d=\"M17.41 7.96l-1.37-1.37c-.4-.4-.92-.59-1.43-.59-.52 0-1.04.2-1.43.59L10.3 9.45l-7.72 7.72c-.78.78-.78 2.05 0 2.83L4 21.41c.39.39.9.59 1.41.59.51 0 1.02-.2 1.41-.59l7.78-7.78 2.81-2.81c.8-.78.8-2.07 0-2.86zM5.41 20L4 18.59l7.72-7.72 1.47 1.35L5.41 20z\"/>\n",
              "  </svg>\n",
              "      </button>\n",
              "      \n",
              "  <style>\n",
              "    .colab-df-container {\n",
              "      display:flex;\n",
              "      flex-wrap:wrap;\n",
              "      gap: 12px;\n",
              "    }\n",
              "\n",
              "    .colab-df-convert {\n",
              "      background-color: #E8F0FE;\n",
              "      border: none;\n",
              "      border-radius: 50%;\n",
              "      cursor: pointer;\n",
              "      display: none;\n",
              "      fill: #1967D2;\n",
              "      height: 32px;\n",
              "      padding: 0 0 0 0;\n",
              "      width: 32px;\n",
              "    }\n",
              "\n",
              "    .colab-df-convert:hover {\n",
              "      background-color: #E2EBFA;\n",
              "      box-shadow: 0px 1px 2px rgba(60, 64, 67, 0.3), 0px 1px 3px 1px rgba(60, 64, 67, 0.15);\n",
              "      fill: #174EA6;\n",
              "    }\n",
              "\n",
              "    [theme=dark] .colab-df-convert {\n",
              "      background-color: #3B4455;\n",
              "      fill: #D2E3FC;\n",
              "    }\n",
              "\n",
              "    [theme=dark] .colab-df-convert:hover {\n",
              "      background-color: #434B5C;\n",
              "      box-shadow: 0px 1px 3px 1px rgba(0, 0, 0, 0.15);\n",
              "      filter: drop-shadow(0px 1px 2px rgba(0, 0, 0, 0.3));\n",
              "      fill: #FFFFFF;\n",
              "    }\n",
              "  </style>\n",
              "\n",
              "      <script>\n",
              "        const buttonEl =\n",
              "          document.querySelector('#df-d3beab97-5262-4c09-9422-bcf8d09d58fc button.colab-df-convert');\n",
              "        buttonEl.style.display =\n",
              "          google.colab.kernel.accessAllowed ? 'block' : 'none';\n",
              "\n",
              "        async function convertToInteractive(key) {\n",
              "          const element = document.querySelector('#df-d3beab97-5262-4c09-9422-bcf8d09d58fc');\n",
              "          const dataTable =\n",
              "            await google.colab.kernel.invokeFunction('convertToInteractive',\n",
              "                                                     [key], {});\n",
              "          if (!dataTable) return;\n",
              "\n",
              "          const docLinkHtml = 'Like what you see? Visit the ' +\n",
              "            '<a target=\"_blank\" href=https://colab.research.google.com/notebooks/data_table.ipynb>data table notebook</a>'\n",
              "            + ' to learn more about interactive tables.';\n",
              "          element.innerHTML = '';\n",
              "          dataTable['output_type'] = 'display_data';\n",
              "          await google.colab.output.renderOutput(dataTable, element);\n",
              "          const docLink = document.createElement('div');\n",
              "          docLink.innerHTML = docLinkHtml;\n",
              "          element.appendChild(docLink);\n",
              "        }\n",
              "      </script>\n",
              "    </div>\n",
              "  </div>\n",
              "  "
            ]
          },
          "metadata": {},
          "execution_count": 8
        }
      ],
      "source": [
        "Train_Data.info()\n",
        "Train_Data.head()"
      ]
    },
    {
      "cell_type": "code",
      "execution_count": 9,
      "metadata": {
        "id": "LxsQhktG56Y8"
      },
      "outputs": [],
      "source": [
        "Test_Data= pd.merge(perf_test, prev_test[\"firstduedate\"], left_index= True, right_index= True)\n",
        "Test_Data= pd.merge(Test_Data, prev_test[\"closeddate\"], left_index= True, right_index= True)\n",
        "Test_Data= pd.merge(Test_Data, prev_test[\"firstrepaiddate\"], left_index= True, right_index= True)\n",
        "Test_Data= pd.merge(Test_Data, prev_test[\"creationdate\"], left_index= True, right_index= True)\n",
        "Test_Data= pd.merge(Test_Data, prev_test[\"approveddate\"], left_index= True, right_index= True)\n",
        "Test_Data= pd.merge(Test_Data, dem_test[\"birthdate\"], left_index= True, right_index= True)\n",
        "Test_Data= pd.merge(Test_Data, dem_test[\"longitude_gps\"], left_index= True, right_index= True)\n",
        "Test_Data= pd.merge(Test_Data, dem_test[\"latitude_gps\"], left_index= True, right_index= True)\n",
        "\n",
        "#Merging the Data features from other Testing Data CSV files into a new data file (Test_Data)\n",
        "\n"
      ]
    },
    {
      "cell_type": "code",
      "execution_count": 10,
      "metadata": {
        "colab": {
          "base_uri": "https://localhost:8080/",
          "height": 744
        },
        "id": "k6Z-_EcO36Eq",
        "outputId": "5f7fcf40-8048-498b-9627-9bb3c703a901"
      },
      "outputs": [
        {
          "output_type": "stream",
          "name": "stdout",
          "text": [
            "<class 'pandas.core.frame.DataFrame'>\n",
            "Int64Index: 1450 entries, 0 to 1449\n",
            "Data columns (total 14 columns):\n",
            " #   Column           Non-Null Count  Dtype  \n",
            "---  ------           --------------  -----  \n",
            " 0   customerid       1450 non-null   object \n",
            " 1   systemloanid     1450 non-null   int64  \n",
            " 2   loannumber       1450 non-null   int64  \n",
            " 3   loanamount       1450 non-null   int64  \n",
            " 4   totaldue         1450 non-null   float64\n",
            " 5   termdays         1450 non-null   int64  \n",
            " 6   firstduedate     1450 non-null   object \n",
            " 7   closeddate       1450 non-null   object \n",
            " 8   firstrepaiddate  1450 non-null   object \n",
            " 9   creationdate     1450 non-null   object \n",
            " 10  approveddate     1450 non-null   object \n",
            " 11  birthdate        1450 non-null   object \n",
            " 12  longitude_gps    1450 non-null   float64\n",
            " 13  latitude_gps     1450 non-null   float64\n",
            "dtypes: float64(3), int64(4), object(7)\n",
            "memory usage: 169.9+ KB\n"
          ]
        },
        {
          "output_type": "execute_result",
          "data": {
            "text/plain": [
              "                         customerid  systemloanid  loannumber  loanamount  \\\n",
              "0  8a858899538ddb8e015390510b321f08     301998974           4       10000   \n",
              "1  8a858959537a097401537a4e316e25f7     301963615          10       40000   \n",
              "2  8a8589c253ace09b0153af6ba58f1f31     301982236           6       20000   \n",
              "3  8a858e095aae82b7015aae86ca1e030b     301971730           8       30000   \n",
              "4  8a858e225a28c713015a30db5c48383d     301959177           4       20000   \n",
              "\n",
              "   totaldue  termdays                firstduedate                  closeddate  \\\n",
              "0   12250.0        30  2016-06-16 00:00:00.000000  2016-06-17 00:04:15.000000   \n",
              "1   44000.0        30  2017-03-06 00:00:00.000000  2017-03-02 16:22:58.000000   \n",
              "2   24500.0        30  2017-04-03 00:00:00.000000  2017-04-02 00:44:24.000000   \n",
              "3   34500.0        30  2016-07-04 00:00:00.000000  2016-07-04 11:34:04.000000   \n",
              "4   24500.0        30  2016-05-31 00:00:00.000000  2016-06-02 00:02:58.000000   \n",
              "\n",
              "              firstrepaiddate                creationdate  \\\n",
              "0  2016-06-16 15:44:08.000000  2016-05-17 09:36:55.000000   \n",
              "1  2017-03-02 16:07:47.000000  2017-02-04 20:28:52.000000   \n",
              "2  2017-04-01 21:29:46.000000  2017-03-04 09:28:16.000000   \n",
              "3  2016-07-04 11:19:01.000000  2016-06-02 13:27:08.000000   \n",
              "4  2016-06-01 15:22:34.000000  2016-05-16 08:13:04.000000   \n",
              "\n",
              "                 approveddate                   birthdate  longitude_gps  \\\n",
              "0  2016-05-17 10:37:00.000000  1976-08-28 00:00:00.000000       5.296628   \n",
              "1  2017-02-04 21:28:59.000000  1978-06-23 00:00:00.000000       3.294513   \n",
              "2  2017-03-04 10:28:22.000000  1984-04-04 00:00:00.000000       8.501912   \n",
              "3  2016-06-02 14:27:14.000000  1983-05-28 00:00:00.000000       3.318904   \n",
              "4  2016-05-16 09:13:12.000000  1982-03-29 00:00:00.000000       6.354624   \n",
              "\n",
              "   latitude_gps  \n",
              "0      7.593965  \n",
              "1      6.596602  \n",
              "2      7.729364  \n",
              "3      6.681595  \n",
              "4      4.949031  "
            ],
            "text/html": [
              "\n",
              "  <div id=\"df-bcdb47cc-a55b-435f-8d2b-a2735ef369dd\">\n",
              "    <div class=\"colab-df-container\">\n",
              "      <div>\n",
              "<style scoped>\n",
              "    .dataframe tbody tr th:only-of-type {\n",
              "        vertical-align: middle;\n",
              "    }\n",
              "\n",
              "    .dataframe tbody tr th {\n",
              "        vertical-align: top;\n",
              "    }\n",
              "\n",
              "    .dataframe thead th {\n",
              "        text-align: right;\n",
              "    }\n",
              "</style>\n",
              "<table border=\"1\" class=\"dataframe\">\n",
              "  <thead>\n",
              "    <tr style=\"text-align: right;\">\n",
              "      <th></th>\n",
              "      <th>customerid</th>\n",
              "      <th>systemloanid</th>\n",
              "      <th>loannumber</th>\n",
              "      <th>loanamount</th>\n",
              "      <th>totaldue</th>\n",
              "      <th>termdays</th>\n",
              "      <th>firstduedate</th>\n",
              "      <th>closeddate</th>\n",
              "      <th>firstrepaiddate</th>\n",
              "      <th>creationdate</th>\n",
              "      <th>approveddate</th>\n",
              "      <th>birthdate</th>\n",
              "      <th>longitude_gps</th>\n",
              "      <th>latitude_gps</th>\n",
              "    </tr>\n",
              "  </thead>\n",
              "  <tbody>\n",
              "    <tr>\n",
              "      <th>0</th>\n",
              "      <td>8a858899538ddb8e015390510b321f08</td>\n",
              "      <td>301998974</td>\n",
              "      <td>4</td>\n",
              "      <td>10000</td>\n",
              "      <td>12250.0</td>\n",
              "      <td>30</td>\n",
              "      <td>2016-06-16 00:00:00.000000</td>\n",
              "      <td>2016-06-17 00:04:15.000000</td>\n",
              "      <td>2016-06-16 15:44:08.000000</td>\n",
              "      <td>2016-05-17 09:36:55.000000</td>\n",
              "      <td>2016-05-17 10:37:00.000000</td>\n",
              "      <td>1976-08-28 00:00:00.000000</td>\n",
              "      <td>5.296628</td>\n",
              "      <td>7.593965</td>\n",
              "    </tr>\n",
              "    <tr>\n",
              "      <th>1</th>\n",
              "      <td>8a858959537a097401537a4e316e25f7</td>\n",
              "      <td>301963615</td>\n",
              "      <td>10</td>\n",
              "      <td>40000</td>\n",
              "      <td>44000.0</td>\n",
              "      <td>30</td>\n",
              "      <td>2017-03-06 00:00:00.000000</td>\n",
              "      <td>2017-03-02 16:22:58.000000</td>\n",
              "      <td>2017-03-02 16:07:47.000000</td>\n",
              "      <td>2017-02-04 20:28:52.000000</td>\n",
              "      <td>2017-02-04 21:28:59.000000</td>\n",
              "      <td>1978-06-23 00:00:00.000000</td>\n",
              "      <td>3.294513</td>\n",
              "      <td>6.596602</td>\n",
              "    </tr>\n",
              "    <tr>\n",
              "      <th>2</th>\n",
              "      <td>8a8589c253ace09b0153af6ba58f1f31</td>\n",
              "      <td>301982236</td>\n",
              "      <td>6</td>\n",
              "      <td>20000</td>\n",
              "      <td>24500.0</td>\n",
              "      <td>30</td>\n",
              "      <td>2017-04-03 00:00:00.000000</td>\n",
              "      <td>2017-04-02 00:44:24.000000</td>\n",
              "      <td>2017-04-01 21:29:46.000000</td>\n",
              "      <td>2017-03-04 09:28:16.000000</td>\n",
              "      <td>2017-03-04 10:28:22.000000</td>\n",
              "      <td>1984-04-04 00:00:00.000000</td>\n",
              "      <td>8.501912</td>\n",
              "      <td>7.729364</td>\n",
              "    </tr>\n",
              "    <tr>\n",
              "      <th>3</th>\n",
              "      <td>8a858e095aae82b7015aae86ca1e030b</td>\n",
              "      <td>301971730</td>\n",
              "      <td>8</td>\n",
              "      <td>30000</td>\n",
              "      <td>34500.0</td>\n",
              "      <td>30</td>\n",
              "      <td>2016-07-04 00:00:00.000000</td>\n",
              "      <td>2016-07-04 11:34:04.000000</td>\n",
              "      <td>2016-07-04 11:19:01.000000</td>\n",
              "      <td>2016-06-02 13:27:08.000000</td>\n",
              "      <td>2016-06-02 14:27:14.000000</td>\n",
              "      <td>1983-05-28 00:00:00.000000</td>\n",
              "      <td>3.318904</td>\n",
              "      <td>6.681595</td>\n",
              "    </tr>\n",
              "    <tr>\n",
              "      <th>4</th>\n",
              "      <td>8a858e225a28c713015a30db5c48383d</td>\n",
              "      <td>301959177</td>\n",
              "      <td>4</td>\n",
              "      <td>20000</td>\n",
              "      <td>24500.0</td>\n",
              "      <td>30</td>\n",
              "      <td>2016-05-31 00:00:00.000000</td>\n",
              "      <td>2016-06-02 00:02:58.000000</td>\n",
              "      <td>2016-06-01 15:22:34.000000</td>\n",
              "      <td>2016-05-16 08:13:04.000000</td>\n",
              "      <td>2016-05-16 09:13:12.000000</td>\n",
              "      <td>1982-03-29 00:00:00.000000</td>\n",
              "      <td>6.354624</td>\n",
              "      <td>4.949031</td>\n",
              "    </tr>\n",
              "  </tbody>\n",
              "</table>\n",
              "</div>\n",
              "      <button class=\"colab-df-convert\" onclick=\"convertToInteractive('df-bcdb47cc-a55b-435f-8d2b-a2735ef369dd')\"\n",
              "              title=\"Convert this dataframe to an interactive table.\"\n",
              "              style=\"display:none;\">\n",
              "        \n",
              "  <svg xmlns=\"http://www.w3.org/2000/svg\" height=\"24px\"viewBox=\"0 0 24 24\"\n",
              "       width=\"24px\">\n",
              "    <path d=\"M0 0h24v24H0V0z\" fill=\"none\"/>\n",
              "    <path d=\"M18.56 5.44l.94 2.06.94-2.06 2.06-.94-2.06-.94-.94-2.06-.94 2.06-2.06.94zm-11 1L8.5 8.5l.94-2.06 2.06-.94-2.06-.94L8.5 2.5l-.94 2.06-2.06.94zm10 10l.94 2.06.94-2.06 2.06-.94-2.06-.94-.94-2.06-.94 2.06-2.06.94z\"/><path d=\"M17.41 7.96l-1.37-1.37c-.4-.4-.92-.59-1.43-.59-.52 0-1.04.2-1.43.59L10.3 9.45l-7.72 7.72c-.78.78-.78 2.05 0 2.83L4 21.41c.39.39.9.59 1.41.59.51 0 1.02-.2 1.41-.59l7.78-7.78 2.81-2.81c.8-.78.8-2.07 0-2.86zM5.41 20L4 18.59l7.72-7.72 1.47 1.35L5.41 20z\"/>\n",
              "  </svg>\n",
              "      </button>\n",
              "      \n",
              "  <style>\n",
              "    .colab-df-container {\n",
              "      display:flex;\n",
              "      flex-wrap:wrap;\n",
              "      gap: 12px;\n",
              "    }\n",
              "\n",
              "    .colab-df-convert {\n",
              "      background-color: #E8F0FE;\n",
              "      border: none;\n",
              "      border-radius: 50%;\n",
              "      cursor: pointer;\n",
              "      display: none;\n",
              "      fill: #1967D2;\n",
              "      height: 32px;\n",
              "      padding: 0 0 0 0;\n",
              "      width: 32px;\n",
              "    }\n",
              "\n",
              "    .colab-df-convert:hover {\n",
              "      background-color: #E2EBFA;\n",
              "      box-shadow: 0px 1px 2px rgba(60, 64, 67, 0.3), 0px 1px 3px 1px rgba(60, 64, 67, 0.15);\n",
              "      fill: #174EA6;\n",
              "    }\n",
              "\n",
              "    [theme=dark] .colab-df-convert {\n",
              "      background-color: #3B4455;\n",
              "      fill: #D2E3FC;\n",
              "    }\n",
              "\n",
              "    [theme=dark] .colab-df-convert:hover {\n",
              "      background-color: #434B5C;\n",
              "      box-shadow: 0px 1px 3px 1px rgba(0, 0, 0, 0.15);\n",
              "      filter: drop-shadow(0px 1px 2px rgba(0, 0, 0, 0.3));\n",
              "      fill: #FFFFFF;\n",
              "    }\n",
              "  </style>\n",
              "\n",
              "      <script>\n",
              "        const buttonEl =\n",
              "          document.querySelector('#df-bcdb47cc-a55b-435f-8d2b-a2735ef369dd button.colab-df-convert');\n",
              "        buttonEl.style.display =\n",
              "          google.colab.kernel.accessAllowed ? 'block' : 'none';\n",
              "\n",
              "        async function convertToInteractive(key) {\n",
              "          const element = document.querySelector('#df-bcdb47cc-a55b-435f-8d2b-a2735ef369dd');\n",
              "          const dataTable =\n",
              "            await google.colab.kernel.invokeFunction('convertToInteractive',\n",
              "                                                     [key], {});\n",
              "          if (!dataTable) return;\n",
              "\n",
              "          const docLinkHtml = 'Like what you see? Visit the ' +\n",
              "            '<a target=\"_blank\" href=https://colab.research.google.com/notebooks/data_table.ipynb>data table notebook</a>'\n",
              "            + ' to learn more about interactive tables.';\n",
              "          element.innerHTML = '';\n",
              "          dataTable['output_type'] = 'display_data';\n",
              "          await google.colab.output.renderOutput(dataTable, element);\n",
              "          const docLink = document.createElement('div');\n",
              "          docLink.innerHTML = docLinkHtml;\n",
              "          element.appendChild(docLink);\n",
              "        }\n",
              "      </script>\n",
              "    </div>\n",
              "  </div>\n",
              "  "
            ]
          },
          "metadata": {},
          "execution_count": 10
        }
      ],
      "source": [
        "Test_Data.info()\n",
        "Test_Data.head()"
      ]
    },
    {
      "cell_type": "markdown",
      "metadata": {
        "id": "aOJ-Sw8G8FiS"
      },
      "source": [
        "**Exploratory Data Analysis (EDA) 1**\n",
        "\n",
        "\n",
        "\n"
      ]
    },
    {
      "cell_type": "code",
      "execution_count": 11,
      "metadata": {
        "colab": {
          "base_uri": "https://localhost:8080/"
        },
        "id": "9-GsmFIG8KcE",
        "outputId": "c262add1-27d5-4ddd-8fb3-0217e846c224"
      },
      "outputs": [
        {
          "output_type": "execute_result",
          "data": {
            "text/plain": [
              "customerid           0\n",
              "systemloanid         0\n",
              "loannumber           0\n",
              "approveddate         0\n",
              "creationdate         0\n",
              "loanamount           0\n",
              "totaldue             0\n",
              "termdays             0\n",
              "good_bad_flag        0\n",
              "firstduedate         0\n",
              "closeddate           0\n",
              "firstrepaiddate      0\n",
              "birthdate            0\n",
              "longitude_gps        0\n",
              "latitude_gps         0\n",
              "bank_name_clients    0\n",
              "bank_account_type    0\n",
              "dtype: int64"
            ]
          },
          "metadata": {},
          "execution_count": 11
        }
      ],
      "source": [
        "#Checking for null columns\n",
        "Train_Data.isnull().sum()"
      ]
    },
    {
      "cell_type": "code",
      "execution_count": 12,
      "metadata": {
        "colab": {
          "base_uri": "https://localhost:8080/"
        },
        "id": "YeSmWnj5_Jx5",
        "outputId": "49b70bcb-706c-4893-9dce-1c3de7b2071c"
      },
      "outputs": [
        {
          "output_type": "execute_result",
          "data": {
            "text/plain": [
              "customerid         0\n",
              "systemloanid       0\n",
              "loannumber         0\n",
              "loanamount         0\n",
              "totaldue           0\n",
              "termdays           0\n",
              "firstduedate       0\n",
              "closeddate         0\n",
              "firstrepaiddate    0\n",
              "creationdate       0\n",
              "approveddate       0\n",
              "birthdate          0\n",
              "longitude_gps      0\n",
              "latitude_gps       0\n",
              "dtype: int64"
            ]
          },
          "metadata": {},
          "execution_count": 12
        }
      ],
      "source": [
        "Test_Data.isnull().sum()"
      ]
    },
    {
      "cell_type": "code",
      "execution_count": 13,
      "metadata": {
        "colab": {
          "base_uri": "https://localhost:8080/",
          "height": 300
        },
        "id": "tBiOoL8GHkVQ",
        "outputId": "aef5aff8-13c0-4a92-b5c5-84c2dc6e0050"
      },
      "outputs": [
        {
          "output_type": "execute_result",
          "data": {
            "text/plain": [
              "       systemloanid   loannumber    loanamount      totaldue     termdays  \\\n",
              "count  4.346000e+03  4346.000000   4346.000000   4346.000000  4346.000000   \n",
              "mean   3.019810e+08     5.169581  17801.426599  21250.540888    29.271744   \n",
              "std    1.342529e+04     3.650181  10745.166507  11941.240232    11.533411   \n",
              "min    3.019585e+08     2.000000  10000.000000  10000.000000    15.000000   \n",
              "25%    3.019692e+08     2.000000  10000.000000  13000.000000    30.000000   \n",
              "50%    3.019801e+08     4.000000  10000.000000  13000.000000    30.000000   \n",
              "75%    3.019935e+08     7.000000  20000.000000  24500.000000    30.000000   \n",
              "max    3.020040e+08    27.000000  60000.000000  68100.000000    90.000000   \n",
              "\n",
              "       longitude_gps  latitude_gps  \n",
              "count    4346.000000   4346.000000  \n",
              "mean        4.626189      7.251356  \n",
              "std         7.184832      3.055052  \n",
              "min      -118.247009    -33.868818  \n",
              "25%         3.354953      6.470610  \n",
              "50%         3.593302      6.621888  \n",
              "75%         6.545220      7.425052  \n",
              "max       151.209290     71.228069  "
            ],
            "text/html": [
              "\n",
              "  <div id=\"df-782a91f6-0f26-4d52-8d2e-1a02265af37c\">\n",
              "    <div class=\"colab-df-container\">\n",
              "      <div>\n",
              "<style scoped>\n",
              "    .dataframe tbody tr th:only-of-type {\n",
              "        vertical-align: middle;\n",
              "    }\n",
              "\n",
              "    .dataframe tbody tr th {\n",
              "        vertical-align: top;\n",
              "    }\n",
              "\n",
              "    .dataframe thead th {\n",
              "        text-align: right;\n",
              "    }\n",
              "</style>\n",
              "<table border=\"1\" class=\"dataframe\">\n",
              "  <thead>\n",
              "    <tr style=\"text-align: right;\">\n",
              "      <th></th>\n",
              "      <th>systemloanid</th>\n",
              "      <th>loannumber</th>\n",
              "      <th>loanamount</th>\n",
              "      <th>totaldue</th>\n",
              "      <th>termdays</th>\n",
              "      <th>longitude_gps</th>\n",
              "      <th>latitude_gps</th>\n",
              "    </tr>\n",
              "  </thead>\n",
              "  <tbody>\n",
              "    <tr>\n",
              "      <th>count</th>\n",
              "      <td>4.346000e+03</td>\n",
              "      <td>4346.000000</td>\n",
              "      <td>4346.000000</td>\n",
              "      <td>4346.000000</td>\n",
              "      <td>4346.000000</td>\n",
              "      <td>4346.000000</td>\n",
              "      <td>4346.000000</td>\n",
              "    </tr>\n",
              "    <tr>\n",
              "      <th>mean</th>\n",
              "      <td>3.019810e+08</td>\n",
              "      <td>5.169581</td>\n",
              "      <td>17801.426599</td>\n",
              "      <td>21250.540888</td>\n",
              "      <td>29.271744</td>\n",
              "      <td>4.626189</td>\n",
              "      <td>7.251356</td>\n",
              "    </tr>\n",
              "    <tr>\n",
              "      <th>std</th>\n",
              "      <td>1.342529e+04</td>\n",
              "      <td>3.650181</td>\n",
              "      <td>10745.166507</td>\n",
              "      <td>11941.240232</td>\n",
              "      <td>11.533411</td>\n",
              "      <td>7.184832</td>\n",
              "      <td>3.055052</td>\n",
              "    </tr>\n",
              "    <tr>\n",
              "      <th>min</th>\n",
              "      <td>3.019585e+08</td>\n",
              "      <td>2.000000</td>\n",
              "      <td>10000.000000</td>\n",
              "      <td>10000.000000</td>\n",
              "      <td>15.000000</td>\n",
              "      <td>-118.247009</td>\n",
              "      <td>-33.868818</td>\n",
              "    </tr>\n",
              "    <tr>\n",
              "      <th>25%</th>\n",
              "      <td>3.019692e+08</td>\n",
              "      <td>2.000000</td>\n",
              "      <td>10000.000000</td>\n",
              "      <td>13000.000000</td>\n",
              "      <td>30.000000</td>\n",
              "      <td>3.354953</td>\n",
              "      <td>6.470610</td>\n",
              "    </tr>\n",
              "    <tr>\n",
              "      <th>50%</th>\n",
              "      <td>3.019801e+08</td>\n",
              "      <td>4.000000</td>\n",
              "      <td>10000.000000</td>\n",
              "      <td>13000.000000</td>\n",
              "      <td>30.000000</td>\n",
              "      <td>3.593302</td>\n",
              "      <td>6.621888</td>\n",
              "    </tr>\n",
              "    <tr>\n",
              "      <th>75%</th>\n",
              "      <td>3.019935e+08</td>\n",
              "      <td>7.000000</td>\n",
              "      <td>20000.000000</td>\n",
              "      <td>24500.000000</td>\n",
              "      <td>30.000000</td>\n",
              "      <td>6.545220</td>\n",
              "      <td>7.425052</td>\n",
              "    </tr>\n",
              "    <tr>\n",
              "      <th>max</th>\n",
              "      <td>3.020040e+08</td>\n",
              "      <td>27.000000</td>\n",
              "      <td>60000.000000</td>\n",
              "      <td>68100.000000</td>\n",
              "      <td>90.000000</td>\n",
              "      <td>151.209290</td>\n",
              "      <td>71.228069</td>\n",
              "    </tr>\n",
              "  </tbody>\n",
              "</table>\n",
              "</div>\n",
              "      <button class=\"colab-df-convert\" onclick=\"convertToInteractive('df-782a91f6-0f26-4d52-8d2e-1a02265af37c')\"\n",
              "              title=\"Convert this dataframe to an interactive table.\"\n",
              "              style=\"display:none;\">\n",
              "        \n",
              "  <svg xmlns=\"http://www.w3.org/2000/svg\" height=\"24px\"viewBox=\"0 0 24 24\"\n",
              "       width=\"24px\">\n",
              "    <path d=\"M0 0h24v24H0V0z\" fill=\"none\"/>\n",
              "    <path d=\"M18.56 5.44l.94 2.06.94-2.06 2.06-.94-2.06-.94-.94-2.06-.94 2.06-2.06.94zm-11 1L8.5 8.5l.94-2.06 2.06-.94-2.06-.94L8.5 2.5l-.94 2.06-2.06.94zm10 10l.94 2.06.94-2.06 2.06-.94-2.06-.94-.94-2.06-.94 2.06-2.06.94z\"/><path d=\"M17.41 7.96l-1.37-1.37c-.4-.4-.92-.59-1.43-.59-.52 0-1.04.2-1.43.59L10.3 9.45l-7.72 7.72c-.78.78-.78 2.05 0 2.83L4 21.41c.39.39.9.59 1.41.59.51 0 1.02-.2 1.41-.59l7.78-7.78 2.81-2.81c.8-.78.8-2.07 0-2.86zM5.41 20L4 18.59l7.72-7.72 1.47 1.35L5.41 20z\"/>\n",
              "  </svg>\n",
              "      </button>\n",
              "      \n",
              "  <style>\n",
              "    .colab-df-container {\n",
              "      display:flex;\n",
              "      flex-wrap:wrap;\n",
              "      gap: 12px;\n",
              "    }\n",
              "\n",
              "    .colab-df-convert {\n",
              "      background-color: #E8F0FE;\n",
              "      border: none;\n",
              "      border-radius: 50%;\n",
              "      cursor: pointer;\n",
              "      display: none;\n",
              "      fill: #1967D2;\n",
              "      height: 32px;\n",
              "      padding: 0 0 0 0;\n",
              "      width: 32px;\n",
              "    }\n",
              "\n",
              "    .colab-df-convert:hover {\n",
              "      background-color: #E2EBFA;\n",
              "      box-shadow: 0px 1px 2px rgba(60, 64, 67, 0.3), 0px 1px 3px 1px rgba(60, 64, 67, 0.15);\n",
              "      fill: #174EA6;\n",
              "    }\n",
              "\n",
              "    [theme=dark] .colab-df-convert {\n",
              "      background-color: #3B4455;\n",
              "      fill: #D2E3FC;\n",
              "    }\n",
              "\n",
              "    [theme=dark] .colab-df-convert:hover {\n",
              "      background-color: #434B5C;\n",
              "      box-shadow: 0px 1px 3px 1px rgba(0, 0, 0, 0.15);\n",
              "      filter: drop-shadow(0px 1px 2px rgba(0, 0, 0, 0.3));\n",
              "      fill: #FFFFFF;\n",
              "    }\n",
              "  </style>\n",
              "\n",
              "      <script>\n",
              "        const buttonEl =\n",
              "          document.querySelector('#df-782a91f6-0f26-4d52-8d2e-1a02265af37c button.colab-df-convert');\n",
              "        buttonEl.style.display =\n",
              "          google.colab.kernel.accessAllowed ? 'block' : 'none';\n",
              "\n",
              "        async function convertToInteractive(key) {\n",
              "          const element = document.querySelector('#df-782a91f6-0f26-4d52-8d2e-1a02265af37c');\n",
              "          const dataTable =\n",
              "            await google.colab.kernel.invokeFunction('convertToInteractive',\n",
              "                                                     [key], {});\n",
              "          if (!dataTable) return;\n",
              "\n",
              "          const docLinkHtml = 'Like what you see? Visit the ' +\n",
              "            '<a target=\"_blank\" href=https://colab.research.google.com/notebooks/data_table.ipynb>data table notebook</a>'\n",
              "            + ' to learn more about interactive tables.';\n",
              "          element.innerHTML = '';\n",
              "          dataTable['output_type'] = 'display_data';\n",
              "          await google.colab.output.renderOutput(dataTable, element);\n",
              "          const docLink = document.createElement('div');\n",
              "          docLink.innerHTML = docLinkHtml;\n",
              "          element.appendChild(docLink);\n",
              "        }\n",
              "      </script>\n",
              "    </div>\n",
              "  </div>\n",
              "  "
            ]
          },
          "metadata": {},
          "execution_count": 13
        }
      ],
      "source": [
        "Train_Data.describe()"
      ]
    },
    {
      "cell_type": "code",
      "source": [
        "Train_Data[[\"longitude_gps\", \"latitude_gps\"]]"
      ],
      "metadata": {
        "id": "Y44j4sQbv6WJ",
        "colab": {
          "base_uri": "https://localhost:8080/",
          "height": 423
        },
        "outputId": "e988f574-b688-4acf-d1ae-f8fb9b471e91"
      },
      "execution_count": 14,
      "outputs": [
        {
          "output_type": "execute_result",
          "data": {
            "text/plain": [
              "      longitude_gps  latitude_gps\n",
              "0          3.319219      6.528604\n",
              "1          3.325598      7.119403\n",
              "2          5.746100      5.563174\n",
              "3          3.362850      6.642485\n",
              "4          8.455332     11.971410\n",
              "...             ...           ...\n",
              "4341       3.236753      7.030168\n",
              "4342       7.013750      4.875662\n",
              "4343       6.295530      7.092508\n",
              "4344       3.354206      6.539070\n",
              "4345       6.661014      7.472700\n",
              "\n",
              "[4346 rows x 2 columns]"
            ],
            "text/html": [
              "\n",
              "  <div id=\"df-3c0d48fe-5f0a-4928-9060-34d92e3ca9c0\">\n",
              "    <div class=\"colab-df-container\">\n",
              "      <div>\n",
              "<style scoped>\n",
              "    .dataframe tbody tr th:only-of-type {\n",
              "        vertical-align: middle;\n",
              "    }\n",
              "\n",
              "    .dataframe tbody tr th {\n",
              "        vertical-align: top;\n",
              "    }\n",
              "\n",
              "    .dataframe thead th {\n",
              "        text-align: right;\n",
              "    }\n",
              "</style>\n",
              "<table border=\"1\" class=\"dataframe\">\n",
              "  <thead>\n",
              "    <tr style=\"text-align: right;\">\n",
              "      <th></th>\n",
              "      <th>longitude_gps</th>\n",
              "      <th>latitude_gps</th>\n",
              "    </tr>\n",
              "  </thead>\n",
              "  <tbody>\n",
              "    <tr>\n",
              "      <th>0</th>\n",
              "      <td>3.319219</td>\n",
              "      <td>6.528604</td>\n",
              "    </tr>\n",
              "    <tr>\n",
              "      <th>1</th>\n",
              "      <td>3.325598</td>\n",
              "      <td>7.119403</td>\n",
              "    </tr>\n",
              "    <tr>\n",
              "      <th>2</th>\n",
              "      <td>5.746100</td>\n",
              "      <td>5.563174</td>\n",
              "    </tr>\n",
              "    <tr>\n",
              "      <th>3</th>\n",
              "      <td>3.362850</td>\n",
              "      <td>6.642485</td>\n",
              "    </tr>\n",
              "    <tr>\n",
              "      <th>4</th>\n",
              "      <td>8.455332</td>\n",
              "      <td>11.971410</td>\n",
              "    </tr>\n",
              "    <tr>\n",
              "      <th>...</th>\n",
              "      <td>...</td>\n",
              "      <td>...</td>\n",
              "    </tr>\n",
              "    <tr>\n",
              "      <th>4341</th>\n",
              "      <td>3.236753</td>\n",
              "      <td>7.030168</td>\n",
              "    </tr>\n",
              "    <tr>\n",
              "      <th>4342</th>\n",
              "      <td>7.013750</td>\n",
              "      <td>4.875662</td>\n",
              "    </tr>\n",
              "    <tr>\n",
              "      <th>4343</th>\n",
              "      <td>6.295530</td>\n",
              "      <td>7.092508</td>\n",
              "    </tr>\n",
              "    <tr>\n",
              "      <th>4344</th>\n",
              "      <td>3.354206</td>\n",
              "      <td>6.539070</td>\n",
              "    </tr>\n",
              "    <tr>\n",
              "      <th>4345</th>\n",
              "      <td>6.661014</td>\n",
              "      <td>7.472700</td>\n",
              "    </tr>\n",
              "  </tbody>\n",
              "</table>\n",
              "<p>4346 rows × 2 columns</p>\n",
              "</div>\n",
              "      <button class=\"colab-df-convert\" onclick=\"convertToInteractive('df-3c0d48fe-5f0a-4928-9060-34d92e3ca9c0')\"\n",
              "              title=\"Convert this dataframe to an interactive table.\"\n",
              "              style=\"display:none;\">\n",
              "        \n",
              "  <svg xmlns=\"http://www.w3.org/2000/svg\" height=\"24px\"viewBox=\"0 0 24 24\"\n",
              "       width=\"24px\">\n",
              "    <path d=\"M0 0h24v24H0V0z\" fill=\"none\"/>\n",
              "    <path d=\"M18.56 5.44l.94 2.06.94-2.06 2.06-.94-2.06-.94-.94-2.06-.94 2.06-2.06.94zm-11 1L8.5 8.5l.94-2.06 2.06-.94-2.06-.94L8.5 2.5l-.94 2.06-2.06.94zm10 10l.94 2.06.94-2.06 2.06-.94-2.06-.94-.94-2.06-.94 2.06-2.06.94z\"/><path d=\"M17.41 7.96l-1.37-1.37c-.4-.4-.92-.59-1.43-.59-.52 0-1.04.2-1.43.59L10.3 9.45l-7.72 7.72c-.78.78-.78 2.05 0 2.83L4 21.41c.39.39.9.59 1.41.59.51 0 1.02-.2 1.41-.59l7.78-7.78 2.81-2.81c.8-.78.8-2.07 0-2.86zM5.41 20L4 18.59l7.72-7.72 1.47 1.35L5.41 20z\"/>\n",
              "  </svg>\n",
              "      </button>\n",
              "      \n",
              "  <style>\n",
              "    .colab-df-container {\n",
              "      display:flex;\n",
              "      flex-wrap:wrap;\n",
              "      gap: 12px;\n",
              "    }\n",
              "\n",
              "    .colab-df-convert {\n",
              "      background-color: #E8F0FE;\n",
              "      border: none;\n",
              "      border-radius: 50%;\n",
              "      cursor: pointer;\n",
              "      display: none;\n",
              "      fill: #1967D2;\n",
              "      height: 32px;\n",
              "      padding: 0 0 0 0;\n",
              "      width: 32px;\n",
              "    }\n",
              "\n",
              "    .colab-df-convert:hover {\n",
              "      background-color: #E2EBFA;\n",
              "      box-shadow: 0px 1px 2px rgba(60, 64, 67, 0.3), 0px 1px 3px 1px rgba(60, 64, 67, 0.15);\n",
              "      fill: #174EA6;\n",
              "    }\n",
              "\n",
              "    [theme=dark] .colab-df-convert {\n",
              "      background-color: #3B4455;\n",
              "      fill: #D2E3FC;\n",
              "    }\n",
              "\n",
              "    [theme=dark] .colab-df-convert:hover {\n",
              "      background-color: #434B5C;\n",
              "      box-shadow: 0px 1px 3px 1px rgba(0, 0, 0, 0.15);\n",
              "      filter: drop-shadow(0px 1px 2px rgba(0, 0, 0, 0.3));\n",
              "      fill: #FFFFFF;\n",
              "    }\n",
              "  </style>\n",
              "\n",
              "      <script>\n",
              "        const buttonEl =\n",
              "          document.querySelector('#df-3c0d48fe-5f0a-4928-9060-34d92e3ca9c0 button.colab-df-convert');\n",
              "        buttonEl.style.display =\n",
              "          google.colab.kernel.accessAllowed ? 'block' : 'none';\n",
              "\n",
              "        async function convertToInteractive(key) {\n",
              "          const element = document.querySelector('#df-3c0d48fe-5f0a-4928-9060-34d92e3ca9c0');\n",
              "          const dataTable =\n",
              "            await google.colab.kernel.invokeFunction('convertToInteractive',\n",
              "                                                     [key], {});\n",
              "          if (!dataTable) return;\n",
              "\n",
              "          const docLinkHtml = 'Like what you see? Visit the ' +\n",
              "            '<a target=\"_blank\" href=https://colab.research.google.com/notebooks/data_table.ipynb>data table notebook</a>'\n",
              "            + ' to learn more about interactive tables.';\n",
              "          element.innerHTML = '';\n",
              "          dataTable['output_type'] = 'display_data';\n",
              "          await google.colab.output.renderOutput(dataTable, element);\n",
              "          const docLink = document.createElement('div');\n",
              "          docLink.innerHTML = docLinkHtml;\n",
              "          element.appendChild(docLink);\n",
              "        }\n",
              "      </script>\n",
              "    </div>\n",
              "  </div>\n",
              "  "
            ]
          },
          "metadata": {},
          "execution_count": 14
        }
      ]
    },
    {
      "cell_type": "code",
      "execution_count": 15,
      "metadata": {
        "colab": {
          "base_uri": "https://localhost:8080/",
          "height": 386
        },
        "id": "tzMguwj44iQl",
        "outputId": "8b0fbeb9-b00e-4227-ba22-ec14ec7150ca"
      },
      "outputs": [
        {
          "output_type": "display_data",
          "data": {
            "text/plain": [
              "<Figure size 432x288 with 1 Axes>"
            ],
            "image/png": "[encoded data removed]"
          },
          "metadata": {
            "needs_background": "light"
          }
        },
        {
          "output_type": "execute_result",
          "data": {
            "text/plain": [
              "Savings    78.808099\n",
              "Other      19.903359\n",
              "Current     1.288541\n",
              "Name: bank_account_type, dtype: float64"
            ]
          },
          "metadata": {},
          "execution_count": 15
        }
      ],
      "source": [
        "ax = Train_Data[\"bank_account_type\"].value_counts().plot(kind=\"bar\");\n",
        "#ax.set_xlabel('Account_Type', fontsize=14);\n",
        "ax.set_ylabel('No. of Users', fontsize=14);\n",
        "ax.set_title('Total Account Type Counts', fontsize=16);\n",
        "plt.rc('font', size=14) ;      \n",
        "plt.rc('font', family='serif');\n",
        "plt.show()\n",
        "\n",
        "\n",
        "Train_Data[\"bank_account_type\"].value_counts(normalize=True) * 100\n"
      ]
    },
    {
      "cell_type": "markdown",
      "metadata": {
        "id": "NKLygrPL5xVE"
      },
      "source": [
        "*It can be inferred from the above plot that:*\n",
        "\n",
        "* About 79% of the dataset uses the \"Savings\" account type.\n",
        "* About 19% of the dataset uses the \"Other\" account type.\n",
        "* About 1% of the dataset uses the \"Current\" account type.\n",
        "\n",
        "*To summarize, the majority of customers use \"savings\" accounts.*\n",
        "\n",
        "\n",
        "\n"
      ]
    },
    {
      "cell_type": "markdown",
      "metadata": {
        "id": "_NwoflTTDiMg"
      },
      "source": [
        "**Customer's Bank Name Count**"
      ]
    },
    {
      "cell_type": "code",
      "execution_count": 16,
      "metadata": {
        "colab": {
          "base_uri": "https://localhost:8080/"
        },
        "id": "PdbN_5lJDqbj",
        "outputId": "07fb9770-85cd-4134-d594-e24ba0b0c328"
      },
      "outputs": [
        {
          "output_type": "execute_result",
          "data": {
            "text/plain": [
              "GT Bank               36.769443\n",
              "First Bank            13.575702\n",
              "Access Bank            9.940175\n",
              "UBA                    8.122411\n",
              "Zenith Bank            6.925909\n",
              "Diamond Bank           6.488725\n",
              "EcoBank                3.451450\n",
              "Stanbic IBTC           3.336401\n",
              "FCMB                   2.784169\n",
              "Fidelity Bank          2.369995\n",
              "Skye Bank              2.346986\n",
              "Sterling Bank          1.265532\n",
              "Wema Bank              0.644271\n",
              "Union Bank             0.529222\n",
              "Heritage Bank          0.506213\n",
              "Keystone Bank          0.437184\n",
              "Standard Chartered     0.345145\n",
              "Unity Bank             0.161068\n",
              "Name: bank_name_clients, dtype: float64"
            ]
          },
          "metadata": {},
          "execution_count": 16
        }
      ],
      "source": [
        "#pd.DataFrame(Train_Data[\"bank_name_clients\"].value_counts(normalize=True) * 100)\n",
        "Train_Data[\"bank_name_clients\"].value_counts(normalize=True) * 100"
      ]
    },
    {
      "cell_type": "code",
      "execution_count": 17,
      "metadata": {
        "colab": {
          "base_uri": "https://localhost:8080/",
          "height": 417
        },
        "id": "DviG6MxR5vlY",
        "outputId": "ba79fbc9-5267-4e45-bc24-e3a89c95a72b"
      },
      "outputs": [
        {
          "output_type": "display_data",
          "data": {
            "text/plain": [
              "<Figure size 432x288 with 1 Axes>"
            ],
            "image/png": "[encoded data removed]"
          },
          "metadata": {
            "needs_background": "light"
          }
        }
      ],
      "source": [
        "ax= Train_Data[\"bank_name_clients\"].value_counts().plot(kind=\"bar\");\n",
        "#ax.set_xlabel('Bank_Name', fontsize=14);\n",
        "ax.set_ylabel('No. of Users', fontsize=14);\n",
        "ax.set_title('Bank Name Counts', fontsize=16);\n",
        "plt.rc('font', size=14) ;      \n",
        "plt.rc('font', family='serif');\n",
        "plt.show()\n"
      ]
    },
    {
      "cell_type": "markdown",
      "metadata": {
        "id": "M7xQy8i_8_zw"
      },
      "source": [
        "*It can be inferred from the above plot and table that:*\n",
        "\n",
        "*The majority of the customers in the dataset (approximately 36%) use GT Bank, followed by FirstBank, which accounts for approximately 16% of the customers in the dataset. While Unity Bank has the lowest percentage of minority customers (about 0.16%).*\n",
        "\n",
        "\n"
      ]
    },
    {
      "cell_type": "markdown",
      "metadata": {
        "id": "mMrPljW5FuBe"
      },
      "source": [
        "**Good or Bad Flag**"
      ]
    },
    {
      "cell_type": "code",
      "execution_count": 18,
      "metadata": {
        "colab": {
          "base_uri": "https://localhost:8080/",
          "height": 366
        },
        "id": "HZc31A_fNwvN",
        "outputId": "c56f871b-7c89-4b91-899d-a1b692b9811e"
      },
      "outputs": [
        {
          "output_type": "display_data",
          "data": {
            "text/plain": [
              "<Figure size 432x288 with 1 Axes>"
            ],
            "image/png": "[encoded data removed]"
          },
          "metadata": {
            "needs_background": "light"
          }
        },
        {
          "output_type": "execute_result",
          "data": {
            "text/plain": [
              "Good    78.301887\n",
              "Bad     21.698113\n",
              "Name: good_bad_flag, dtype: float64"
            ]
          },
          "metadata": {},
          "execution_count": 18
        }
      ],
      "source": [
        "ax= (Train_Data[\"good_bad_flag\"].value_counts(normalize=True) * 100).plot(kind=\"bar\");\n",
        "#ax.set_xlabel('Good_Bad_Flag', fontsize=14);\n",
        "ax.set_ylabel('Count', fontsize=14);\n",
        "ax.set_title('Good_Bad Flag value counts',  fontsize=16);\n",
        "plt.rc('font', size=14) ;      \n",
        "plt.rc('font', family='serif');\n",
        "plt.show()\n",
        "\n",
        "Train_Data[\"good_bad_flag\"].value_counts(normalize=True) * 100"
      ]
    },
    {
      "cell_type": "markdown",
      "metadata": {
        "id": "pzdQYKpiJBVE"
      },
      "source": [
        "*It can be inferred from the above plot and table that:*\n",
        "\n",
        "*Approximately 78% of the customers in the dataset don't default on their loan payments (i.e., it is a good flag), while 22% of the customers defaulted on their loan payments.*\n",
        "\n",
        "NB: This looks like an imbalanced class dataset, and there would be a need for resampling later on.\n"
      ]
    },
    {
      "cell_type": "code",
      "execution_count": 19,
      "metadata": {
        "colab": {
          "base_uri": "https://localhost:8080/"
        },
        "id": "TvzKxjNL-MUX",
        "outputId": "784eea14-aa65-4ea8-b3ec-64966e80d0b1"
      },
      "outputs": [
        {
          "output_type": "execute_result",
          "data": {
            "text/plain": [
              "customerid            object\n",
              "systemloanid           int64\n",
              "loannumber             int64\n",
              "approveddate          object\n",
              "creationdate          object\n",
              "loanamount           float64\n",
              "totaldue             float64\n",
              "termdays               int64\n",
              "good_bad_flag         object\n",
              "firstduedate          object\n",
              "closeddate            object\n",
              "firstrepaiddate       object\n",
              "birthdate             object\n",
              "longitude_gps        float64\n",
              "latitude_gps         float64\n",
              "bank_name_clients     object\n",
              "bank_account_type     object\n",
              "dtype: object"
            ]
          },
          "metadata": {},
          "execution_count": 19
        }
      ],
      "source": [
        "Train_Data.dtypes"
      ]
    },
    {
      "cell_type": "markdown",
      "metadata": {
        "id": "m2rrkc_nNdHU"
      },
      "source": [
        "**Data Preprocessing 2**\n",
        "\n"
      ]
    },
    {
      "cell_type": "code",
      "execution_count": 20,
      "metadata": {
        "id": "eYyQZBEbSSzg"
      },
      "outputs": [],
      "source": [
        "\n",
        "from sklearn.preprocessing import LabelEncoder\n",
        "le= LabelEncoder()\n",
        "Train_Data[\"good_bad_flag\"]= le.fit_transform(Train_Data[\"good_bad_flag\"].values)\n",
        "#Convert the target columns [\"good_bad_flag\"] into a numerical variable (int64). indicating that good_flag is 1 and bad_flag is 0. \n"
      ]
    },
    {
      "cell_type": "code",
      "execution_count": 21,
      "metadata": {
        "colab": {
          "base_uri": "https://localhost:8080/",
          "height": 270
        },
        "id": "qIR3wPM06fmV",
        "outputId": "14d4e7aa-3d5b-4f52-b27b-1ab8eac9a888"
      },
      "outputs": [
        {
          "output_type": "execute_result",
          "data": {
            "text/plain": [
              "                         customerid  loannumber  loanamount  totaldue  \\\n",
              "0  8a2a81a74ce8c05d014cfb32a0da1049          12     30000.0   34500.0   \n",
              "1  8a85886e54beabf90154c0a29ae757c0           2     15000.0   17250.0   \n",
              "2  8a8588f35438fe12015444567666018e           7     20000.0   22250.0   \n",
              "3  8a85890754145ace015429211b513e16           3     10000.0   11500.0   \n",
              "4  8a858970548359cc0154883481981866           9     40000.0   44000.0   \n",
              "\n",
              "   termdays  good_bad_flag  longitude_gps  latitude_gps bank_name_clients  \\\n",
              "0        30              1       3.319219      6.528604           GT Bank   \n",
              "1        30              1       3.325598      7.119403     Sterling Bank   \n",
              "2        15              1       5.746100      5.563174     Fidelity Bank   \n",
              "3        15              1       3.362850      6.642485           GT Bank   \n",
              "4        30              1       8.455332     11.971410           GT Bank   \n",
              "\n",
              "  bank_account_type   Age_In_Days  Approval_Period_days  Loan_Period_days  \\\n",
              "0           Savings  15994.307488              0.041771       -326.636100   \n",
              "1           Savings  11488.669653              0.041933        -38.055197   \n",
              "2           Savings  11054.578368              0.041736        -70.648553   \n",
              "3           Savings   9505.750405              0.041736        -94.683831   \n",
              "4           Savings  12642.946285              0.041736         10.941713   \n",
              "\n",
              "   Due_Period_Days  \n",
              "0        12.339086  \n",
              "1         4.000000  \n",
              "2       -22.919294  \n",
              "3        -0.033831  \n",
              "4       -11.880961  "
            ],
            "text/html": [
              "\n",
              "  <div id=\"df-ca4df551-4678-40cd-b400-a91d14be42f6\">\n",
              "    <div class=\"colab-df-container\">\n",
              "      <div>\n",
              "<style scoped>\n",
              "    .dataframe tbody tr th:only-of-type {\n",
              "        vertical-align: middle;\n",
              "    }\n",
              "\n",
              "    .dataframe tbody tr th {\n",
              "        vertical-align: top;\n",
              "    }\n",
              "\n",
              "    .dataframe thead th {\n",
              "        text-align: right;\n",
              "    }\n",
              "</style>\n",
              "<table border=\"1\" class=\"dataframe\">\n",
              "  <thead>\n",
              "    <tr style=\"text-align: right;\">\n",
              "      <th></th>\n",
              "      <th>customerid</th>\n",
              "      <th>loannumber</th>\n",
              "      <th>loanamount</th>\n",
              "      <th>totaldue</th>\n",
              "      <th>termdays</th>\n",
              "      <th>good_bad_flag</th>\n",
              "      <th>longitude_gps</th>\n",
              "      <th>latitude_gps</th>\n",
              "      <th>bank_name_clients</th>\n",
              "      <th>bank_account_type</th>\n",
              "      <th>Age_In_Days</th>\n",
              "      <th>Approval_Period_days</th>\n",
              "      <th>Loan_Period_days</th>\n",
              "      <th>Due_Period_Days</th>\n",
              "    </tr>\n",
              "  </thead>\n",
              "  <tbody>\n",
              "    <tr>\n",
              "      <th>0</th>\n",
              "      <td>8a2a81a74ce8c05d014cfb32a0da1049</td>\n",
              "      <td>12</td>\n",
              "      <td>30000.0</td>\n",
              "      <td>34500.0</td>\n",
              "      <td>30</td>\n",
              "      <td>1</td>\n",
              "      <td>3.319219</td>\n",
              "      <td>6.528604</td>\n",
              "      <td>GT Bank</td>\n",
              "      <td>Savings</td>\n",
              "      <td>15994.307488</td>\n",
              "      <td>0.041771</td>\n",
              "      <td>-326.636100</td>\n",
              "      <td>12.339086</td>\n",
              "    </tr>\n",
              "    <tr>\n",
              "      <th>1</th>\n",
              "      <td>8a85886e54beabf90154c0a29ae757c0</td>\n",
              "      <td>2</td>\n",
              "      <td>15000.0</td>\n",
              "      <td>17250.0</td>\n",
              "      <td>30</td>\n",
              "      <td>1</td>\n",
              "      <td>3.325598</td>\n",
              "      <td>7.119403</td>\n",
              "      <td>Sterling Bank</td>\n",
              "      <td>Savings</td>\n",
              "      <td>11488.669653</td>\n",
              "      <td>0.041933</td>\n",
              "      <td>-38.055197</td>\n",
              "      <td>4.000000</td>\n",
              "    </tr>\n",
              "    <tr>\n",
              "      <th>2</th>\n",
              "      <td>8a8588f35438fe12015444567666018e</td>\n",
              "      <td>7</td>\n",
              "      <td>20000.0</td>\n",
              "      <td>22250.0</td>\n",
              "      <td>15</td>\n",
              "      <td>1</td>\n",
              "      <td>5.746100</td>\n",
              "      <td>5.563174</td>\n",
              "      <td>Fidelity Bank</td>\n",
              "      <td>Savings</td>\n",
              "      <td>11054.578368</td>\n",
              "      <td>0.041736</td>\n",
              "      <td>-70.648553</td>\n",
              "      <td>-22.919294</td>\n",
              "    </tr>\n",
              "    <tr>\n",
              "      <th>3</th>\n",
              "      <td>8a85890754145ace015429211b513e16</td>\n",
              "      <td>3</td>\n",
              "      <td>10000.0</td>\n",
              "      <td>11500.0</td>\n",
              "      <td>15</td>\n",
              "      <td>1</td>\n",
              "      <td>3.362850</td>\n",
              "      <td>6.642485</td>\n",
              "      <td>GT Bank</td>\n",
              "      <td>Savings</td>\n",
              "      <td>9505.750405</td>\n",
              "      <td>0.041736</td>\n",
              "      <td>-94.683831</td>\n",
              "      <td>-0.033831</td>\n",
              "    </tr>\n",
              "    <tr>\n",
              "      <th>4</th>\n",
              "      <td>8a858970548359cc0154883481981866</td>\n",
              "      <td>9</td>\n",
              "      <td>40000.0</td>\n",
              "      <td>44000.0</td>\n",
              "      <td>30</td>\n",
              "      <td>1</td>\n",
              "      <td>8.455332</td>\n",
              "      <td>11.971410</td>\n",
              "      <td>GT Bank</td>\n",
              "      <td>Savings</td>\n",
              "      <td>12642.946285</td>\n",
              "      <td>0.041736</td>\n",
              "      <td>10.941713</td>\n",
              "      <td>-11.880961</td>\n",
              "    </tr>\n",
              "  </tbody>\n",
              "</table>\n",
              "</div>\n",
              "      <button class=\"colab-df-convert\" onclick=\"convertToInteractive('df-ca4df551-4678-40cd-b400-a91d14be42f6')\"\n",
              "              title=\"Convert this dataframe to an interactive table.\"\n",
              "              style=\"display:none;\">\n",
              "        \n",
              "  <svg xmlns=\"http://www.w3.org/2000/svg\" height=\"24px\"viewBox=\"0 0 24 24\"\n",
              "       width=\"24px\">\n",
              "    <path d=\"M0 0h24v24H0V0z\" fill=\"none\"/>\n",
              "    <path d=\"M18.56 5.44l.94 2.06.94-2.06 2.06-.94-2.06-.94-.94-2.06-.94 2.06-2.06.94zm-11 1L8.5 8.5l.94-2.06 2.06-.94-2.06-.94L8.5 2.5l-.94 2.06-2.06.94zm10 10l.94 2.06.94-2.06 2.06-.94-2.06-.94-.94-2.06-.94 2.06-2.06.94z\"/><path d=\"M17.41 7.96l-1.37-1.37c-.4-.4-.92-.59-1.43-.59-.52 0-1.04.2-1.43.59L10.3 9.45l-7.72 7.72c-.78.78-.78 2.05 0 2.83L4 21.41c.39.39.9.59 1.41.59.51 0 1.02-.2 1.41-.59l7.78-7.78 2.81-2.81c.8-.78.8-2.07 0-2.86zM5.41 20L4 18.59l7.72-7.72 1.47 1.35L5.41 20z\"/>\n",
              "  </svg>\n",
              "      </button>\n",
              "      \n",
              "  <style>\n",
              "    .colab-df-container {\n",
              "      display:flex;\n",
              "      flex-wrap:wrap;\n",
              "      gap: 12px;\n",
              "    }\n",
              "\n",
              "    .colab-df-convert {\n",
              "      background-color: #E8F0FE;\n",
              "      border: none;\n",
              "      border-radius: 50%;\n",
              "      cursor: pointer;\n",
              "      display: none;\n",
              "      fill: #1967D2;\n",
              "      height: 32px;\n",
              "      padding: 0 0 0 0;\n",
              "      width: 32px;\n",
              "    }\n",
              "\n",
              "    .colab-df-convert:hover {\n",
              "      background-color: #E2EBFA;\n",
              "      box-shadow: 0px 1px 2px rgba(60, 64, 67, 0.3), 0px 1px 3px 1px rgba(60, 64, 67, 0.15);\n",
              "      fill: #174EA6;\n",
              "    }\n",
              "\n",
              "    [theme=dark] .colab-df-convert {\n",
              "      background-color: #3B4455;\n",
              "      fill: #D2E3FC;\n",
              "    }\n",
              "\n",
              "    [theme=dark] .colab-df-convert:hover {\n",
              "      background-color: #434B5C;\n",
              "      box-shadow: 0px 1px 3px 1px rgba(0, 0, 0, 0.15);\n",
              "      filter: drop-shadow(0px 1px 2px rgba(0, 0, 0, 0.3));\n",
              "      fill: #FFFFFF;\n",
              "    }\n",
              "  </style>\n",
              "\n",
              "      <script>\n",
              "        const buttonEl =\n",
              "          document.querySelector('#df-ca4df551-4678-40cd-b400-a91d14be42f6 button.colab-df-convert');\n",
              "        buttonEl.style.display =\n",
              "          google.colab.kernel.accessAllowed ? 'block' : 'none';\n",
              "\n",
              "        async function convertToInteractive(key) {\n",
              "          const element = document.querySelector('#df-ca4df551-4678-40cd-b400-a91d14be42f6');\n",
              "          const dataTable =\n",
              "            await google.colab.kernel.invokeFunction('convertToInteractive',\n",
              "                                                     [key], {});\n",
              "          if (!dataTable) return;\n",
              "\n",
              "          const docLinkHtml = 'Like what you see? Visit the ' +\n",
              "            '<a target=\"_blank\" href=https://colab.research.google.com/notebooks/data_table.ipynb>data table notebook</a>'\n",
              "            + ' to learn more about interactive tables.';\n",
              "          element.innerHTML = '';\n",
              "          dataTable['output_type'] = 'display_data';\n",
              "          await google.colab.output.renderOutput(dataTable, element);\n",
              "          const docLink = document.createElement('div');\n",
              "          docLink.innerHTML = docLinkHtml;\n",
              "          element.appendChild(docLink);\n",
              "        }\n",
              "      </script>\n",
              "    </div>\n",
              "  </div>\n",
              "  "
            ]
          },
          "metadata": {},
          "execution_count": 21
        }
      ],
      "source": [
        "\n",
        "Train_Data[\"Age_In_Days\"]= (pd.to_datetime(Train_Data[\"creationdate\"])) -(pd.to_datetime(Train_Data[\"birthdate\"])) \n",
        "Train_Data['Age_In_Days'] = (pd.to_timedelta(Train_Data['Age_In_Days']))\n",
        "Train_Data[\"Age_In_Days\"] = (Train_Data['Age_In_Days'].dt.total_seconds() / 3600)/24\n",
        "\n",
        "Train_Data[\"Approval_Period_days\"]= (pd.to_datetime(Train_Data[\"approveddate\"])) -(pd.to_datetime(Train_Data[\"creationdate\"])) \n",
        "Train_Data['Approval_Period_days'] =  (pd.to_timedelta(Train_Data['Approval_Period_days']))\n",
        "Train_Data[\"Approval_Period_days\"] = (Train_Data['Approval_Period_days'].dt.total_seconds() / 3600)/24\n",
        "\n",
        "Train_Data[\"Loan_Period_days\"]= (pd.to_datetime(Train_Data[\"closeddate\"]))-(pd.to_datetime(Train_Data[\"creationdate\"]))\n",
        "Train_Data['Loan_Period_days'] = (pd.to_timedelta(Train_Data['Loan_Period_days']))\n",
        "Train_Data[\"Loan_Period_days\"] = (Train_Data['Loan_Period_days'].dt.total_seconds() / 3600)/24\n",
        "\n",
        "Train_Data[\"Due_Period_Days\"]=(pd.to_datetime(Train_Data[\"firstduedate\"]))-(pd.to_datetime(Train_Data[\"firstrepaiddate\"]))\n",
        "Train_Data['Due_Period_Days'] =   (pd.to_timedelta(Train_Data['Due_Period_Days']))\n",
        "Train_Data[\"Due_Period_Days\"] = (Train_Data['Due_Period_Days'].dt.total_seconds() / 3600)/24\n",
        "\n",
        "#Convert all the date feautures in the Training_Data into datetime, and calculate the Age of applicant, Approval period, Loan Period, and Due Period all in days\n",
        "\n",
        "Train_Data.drop([\"creationdate\",\"approveddate\",\"firstduedate\",\"firstrepaiddate\", \"birthdate\", \"closeddate\", \"systemloanid\"],  inplace=True, axis= 1)\n",
        "Train_Data.head()"
      ]
    },
    {
      "cell_type": "code",
      "execution_count": 22,
      "metadata": {
        "colab": {
          "base_uri": "https://localhost:8080/"
        },
        "id": "FoegYz17-hvK",
        "outputId": "6f8356b1-c218-4795-dc26-6c2fb819df0e"
      },
      "outputs": [
        {
          "output_type": "execute_result",
          "data": {
            "text/plain": [
              "customerid               object\n",
              "loannumber                int64\n",
              "loanamount              float64\n",
              "totaldue                float64\n",
              "termdays                  int64\n",
              "good_bad_flag             int64\n",
              "longitude_gps           float64\n",
              "latitude_gps            float64\n",
              "bank_name_clients        object\n",
              "bank_account_type        object\n",
              "Age_In_Days             float64\n",
              "Approval_Period_days    float64\n",
              "Loan_Period_days        float64\n",
              "Due_Period_Days         float64\n",
              "dtype: object"
            ]
          },
          "metadata": {},
          "execution_count": 22
        }
      ],
      "source": [
        "Train_Data.dtypes"
      ]
    },
    {
      "cell_type": "code",
      "execution_count": 23,
      "metadata": {
        "colab": {
          "base_uri": "https://localhost:8080/",
          "height": 250
        },
        "id": "k5ZtR80hDzc7",
        "outputId": "71d792d9-9053-4374-acfa-9c220621e3eb"
      },
      "outputs": [
        {
          "output_type": "execute_result",
          "data": {
            "text/plain": [
              "                         customerid  loannumber  loanamount  totaldue  \\\n",
              "0  8a858899538ddb8e015390510b321f08           4       10000   12250.0   \n",
              "1  8a858959537a097401537a4e316e25f7          10       40000   44000.0   \n",
              "2  8a8589c253ace09b0153af6ba58f1f31           6       20000   24500.0   \n",
              "3  8a858e095aae82b7015aae86ca1e030b           8       30000   34500.0   \n",
              "4  8a858e225a28c713015a30db5c48383d           4       20000   24500.0   \n",
              "\n",
              "   termdays  longitude_gps  latitude_gps   Age_In_Days  Approval_Period_days  \\\n",
              "0        30       5.296628      7.593965  14507.400637              0.041725   \n",
              "1        30       3.294513      6.596602  14106.853380              0.041748   \n",
              "2        30       8.501912      7.729364  12022.394630              0.041736   \n",
              "3        30       3.318904      6.681595  12059.560509              0.041736   \n",
              "4        30       6.354624      4.949031  12467.342407              0.041759   \n",
              "\n",
              "   Loan_Period_days  Due_Period_Days  \n",
              "0         30.602315        -0.655648  \n",
              "1         25.829236         3.327928  \n",
              "2         28.636204         1.104329  \n",
              "3         31.921481        -0.471539  \n",
              "4         16.659653        -1.640671  "
            ],
            "text/html": [
              "\n",
              "  <div id=\"df-a51661a3-5e61-4d47-a111-bfb046e50fdb\">\n",
              "    <div class=\"colab-df-container\">\n",
              "      <div>\n",
              "<style scoped>\n",
              "    .dataframe tbody tr th:only-of-type {\n",
              "        vertical-align: middle;\n",
              "    }\n",
              "\n",
              "    .dataframe tbody tr th {\n",
              "        vertical-align: top;\n",
              "    }\n",
              "\n",
              "    .dataframe thead th {\n",
              "        text-align: right;\n",
              "    }\n",
              "</style>\n",
              "<table border=\"1\" class=\"dataframe\">\n",
              "  <thead>\n",
              "    <tr style=\"text-align: right;\">\n",
              "      <th></th>\n",
              "      <th>customerid</th>\n",
              "      <th>loannumber</th>\n",
              "      <th>loanamount</th>\n",
              "      <th>totaldue</th>\n",
              "      <th>termdays</th>\n",
              "      <th>longitude_gps</th>\n",
              "      <th>latitude_gps</th>\n",
              "      <th>Age_In_Days</th>\n",
              "      <th>Approval_Period_days</th>\n",
              "      <th>Loan_Period_days</th>\n",
              "      <th>Due_Period_Days</th>\n",
              "    </tr>\n",
              "  </thead>\n",
              "  <tbody>\n",
              "    <tr>\n",
              "      <th>0</th>\n",
              "      <td>8a858899538ddb8e015390510b321f08</td>\n",
              "      <td>4</td>\n",
              "      <td>10000</td>\n",
              "      <td>12250.0</td>\n",
              "      <td>30</td>\n",
              "      <td>5.296628</td>\n",
              "      <td>7.593965</td>\n",
              "      <td>14507.400637</td>\n",
              "      <td>0.041725</td>\n",
              "      <td>30.602315</td>\n",
              "      <td>-0.655648</td>\n",
              "    </tr>\n",
              "    <tr>\n",
              "      <th>1</th>\n",
              "      <td>8a858959537a097401537a4e316e25f7</td>\n",
              "      <td>10</td>\n",
              "      <td>40000</td>\n",
              "      <td>44000.0</td>\n",
              "      <td>30</td>\n",
              "      <td>3.294513</td>\n",
              "      <td>6.596602</td>\n",
              "      <td>14106.853380</td>\n",
              "      <td>0.041748</td>\n",
              "      <td>25.829236</td>\n",
              "      <td>3.327928</td>\n",
              "    </tr>\n",
              "    <tr>\n",
              "      <th>2</th>\n",
              "      <td>8a8589c253ace09b0153af6ba58f1f31</td>\n",
              "      <td>6</td>\n",
              "      <td>20000</td>\n",
              "      <td>24500.0</td>\n",
              "      <td>30</td>\n",
              "      <td>8.501912</td>\n",
              "      <td>7.729364</td>\n",
              "      <td>12022.394630</td>\n",
              "      <td>0.041736</td>\n",
              "      <td>28.636204</td>\n",
              "      <td>1.104329</td>\n",
              "    </tr>\n",
              "    <tr>\n",
              "      <th>3</th>\n",
              "      <td>8a858e095aae82b7015aae86ca1e030b</td>\n",
              "      <td>8</td>\n",
              "      <td>30000</td>\n",
              "      <td>34500.0</td>\n",
              "      <td>30</td>\n",
              "      <td>3.318904</td>\n",
              "      <td>6.681595</td>\n",
              "      <td>12059.560509</td>\n",
              "      <td>0.041736</td>\n",
              "      <td>31.921481</td>\n",
              "      <td>-0.471539</td>\n",
              "    </tr>\n",
              "    <tr>\n",
              "      <th>4</th>\n",
              "      <td>8a858e225a28c713015a30db5c48383d</td>\n",
              "      <td>4</td>\n",
              "      <td>20000</td>\n",
              "      <td>24500.0</td>\n",
              "      <td>30</td>\n",
              "      <td>6.354624</td>\n",
              "      <td>4.949031</td>\n",
              "      <td>12467.342407</td>\n",
              "      <td>0.041759</td>\n",
              "      <td>16.659653</td>\n",
              "      <td>-1.640671</td>\n",
              "    </tr>\n",
              "  </tbody>\n",
              "</table>\n",
              "</div>\n",
              "      <button class=\"colab-df-convert\" onclick=\"convertToInteractive('df-a51661a3-5e61-4d47-a111-bfb046e50fdb')\"\n",
              "              title=\"Convert this dataframe to an interactive table.\"\n",
              "              style=\"display:none;\">\n",
              "        \n",
              "  <svg xmlns=\"http://www.w3.org/2000/svg\" height=\"24px\"viewBox=\"0 0 24 24\"\n",
              "       width=\"24px\">\n",
              "    <path d=\"M0 0h24v24H0V0z\" fill=\"none\"/>\n",
              "    <path d=\"M18.56 5.44l.94 2.06.94-2.06 2.06-.94-2.06-.94-.94-2.06-.94 2.06-2.06.94zm-11 1L8.5 8.5l.94-2.06 2.06-.94-2.06-.94L8.5 2.5l-.94 2.06-2.06.94zm10 10l.94 2.06.94-2.06 2.06-.94-2.06-.94-.94-2.06-.94 2.06-2.06.94z\"/><path d=\"M17.41 7.96l-1.37-1.37c-.4-.4-.92-.59-1.43-.59-.52 0-1.04.2-1.43.59L10.3 9.45l-7.72 7.72c-.78.78-.78 2.05 0 2.83L4 21.41c.39.39.9.59 1.41.59.51 0 1.02-.2 1.41-.59l7.78-7.78 2.81-2.81c.8-.78.8-2.07 0-2.86zM5.41 20L4 18.59l7.72-7.72 1.47 1.35L5.41 20z\"/>\n",
              "  </svg>\n",
              "      </button>\n",
              "      \n",
              "  <style>\n",
              "    .colab-df-container {\n",
              "      display:flex;\n",
              "      flex-wrap:wrap;\n",
              "      gap: 12px;\n",
              "    }\n",
              "\n",
              "    .colab-df-convert {\n",
              "      background-color: #E8F0FE;\n",
              "      border: none;\n",
              "      border-radius: 50%;\n",
              "      cursor: pointer;\n",
              "      display: none;\n",
              "      fill: #1967D2;\n",
              "      height: 32px;\n",
              "      padding: 0 0 0 0;\n",
              "      width: 32px;\n",
              "    }\n",
              "\n",
              "    .colab-df-convert:hover {\n",
              "      background-color: #E2EBFA;\n",
              "      box-shadow: 0px 1px 2px rgba(60, 64, 67, 0.3), 0px 1px 3px 1px rgba(60, 64, 67, 0.15);\n",
              "      fill: #174EA6;\n",
              "    }\n",
              "\n",
              "    [theme=dark] .colab-df-convert {\n",
              "      background-color: #3B4455;\n",
              "      fill: #D2E3FC;\n",
              "    }\n",
              "\n",
              "    [theme=dark] .colab-df-convert:hover {\n",
              "      background-color: #434B5C;\n",
              "      box-shadow: 0px 1px 3px 1px rgba(0, 0, 0, 0.15);\n",
              "      filter: drop-shadow(0px 1px 2px rgba(0, 0, 0, 0.3));\n",
              "      fill: #FFFFFF;\n",
              "    }\n",
              "  </style>\n",
              "\n",
              "      <script>\n",
              "        const buttonEl =\n",
              "          document.querySelector('#df-a51661a3-5e61-4d47-a111-bfb046e50fdb button.colab-df-convert');\n",
              "        buttonEl.style.display =\n",
              "          google.colab.kernel.accessAllowed ? 'block' : 'none';\n",
              "\n",
              "        async function convertToInteractive(key) {\n",
              "          const element = document.querySelector('#df-a51661a3-5e61-4d47-a111-bfb046e50fdb');\n",
              "          const dataTable =\n",
              "            await google.colab.kernel.invokeFunction('convertToInteractive',\n",
              "                                                     [key], {});\n",
              "          if (!dataTable) return;\n",
              "\n",
              "          const docLinkHtml = 'Like what you see? Visit the ' +\n",
              "            '<a target=\"_blank\" href=https://colab.research.google.com/notebooks/data_table.ipynb>data table notebook</a>'\n",
              "            + ' to learn more about interactive tables.';\n",
              "          element.innerHTML = '';\n",
              "          dataTable['output_type'] = 'display_data';\n",
              "          await google.colab.output.renderOutput(dataTable, element);\n",
              "          const docLink = document.createElement('div');\n",
              "          docLink.innerHTML = docLinkHtml;\n",
              "          element.appendChild(docLink);\n",
              "        }\n",
              "      </script>\n",
              "    </div>\n",
              "  </div>\n",
              "  "
            ]
          },
          "metadata": {},
          "execution_count": 23
        }
      ],
      "source": [
        "Test_Data.head()\n",
        "Test_Data[\"Age_In_Days\"]= (pd.to_datetime(Test_Data[\"creationdate\"])) -(pd.to_datetime(Test_Data[\"birthdate\"])) \n",
        "Test_Data['Age_In_Days'] = (pd.to_timedelta(Test_Data['Age_In_Days']))\n",
        "Test_Data[\"Age_In_Days\"] = (Test_Data['Age_In_Days'].dt.total_seconds() / 3600)/24\n",
        "\n",
        "Test_Data[\"Approval_Period_days\"]= (pd.to_datetime(Test_Data[\"approveddate\"])) -(pd.to_datetime(Test_Data[\"creationdate\"])) \n",
        "Test_Data['Approval_Period_days'] =  (pd.to_timedelta(Test_Data['Approval_Period_days']))\n",
        "Test_Data[\"Approval_Period_days\"] = (Test_Data['Approval_Period_days'].dt.total_seconds() / 3600)/24\n",
        "\n",
        "Test_Data[\"Loan_Period_days\"]= (pd.to_datetime(Test_Data[\"closeddate\"]))-(pd.to_datetime(Test_Data[\"creationdate\"]))\n",
        "Test_Data['Loan_Period_days'] = (pd.to_timedelta(Test_Data['Loan_Period_days']))\n",
        "Test_Data[\"Loan_Period_days\"] = (Test_Data['Loan_Period_days'].dt.total_seconds() / 3600)/24\n",
        "\n",
        "Test_Data[\"Due_Period_Days\"]=(pd.to_datetime(Test_Data[\"firstduedate\"]))-(pd.to_datetime(Test_Data[\"firstrepaiddate\"]))\n",
        "Test_Data['Due_Period_Days'] =   (pd.to_timedelta(Test_Data['Due_Period_Days']))\n",
        "Test_Data[\"Due_Period_Days\"] = (Test_Data['Due_Period_Days'].dt.total_seconds() / 3600)/24\n",
        "\n",
        "#Convert all the date feautures in the Testing_Data into datetime, and calculate the Age of applicant, Approval period, Loan Period, and Due Period all in days\n",
        "\n",
        "Test_Data.drop([\"creationdate\",\"approveddate\",\"firstduedate\",\"firstrepaiddate\", \"birthdate\", \"closeddate\",\"systemloanid\"],inplace=True, axis= 1)\n",
        "Test_Data.head()"
      ]
    },
    {
      "cell_type": "code",
      "execution_count": 24,
      "metadata": {
        "colab": {
          "base_uri": "https://localhost:8080/"
        },
        "id": "R13xeR7RDbyd",
        "outputId": "b9c58b8a-cc3b-47c9-b0cf-23ddaa4d71c3"
      },
      "outputs": [
        {
          "output_type": "stream",
          "name": "stdout",
          "text": [
            "The shape of the train data group by customeid is : (4346, 11)\n",
            "The shape of the test data group by customeid is : (1450, 10)\n"
          ]
        }
      ],
      "source": [
        "#Grouping the Training and Test data by CustomerID \n",
        "Bank_Train= Train_Data.groupby([\"customerid\"]).mean()\n",
        "Bank_Test= Test_Data.groupby([\"customerid\"]).mean()\n",
        "print (\"The shape of the train data group by customeid is :\", Bank_Train.shape)\n",
        "print (\"The shape of the test data group by customeid is :\", Bank_Test.shape)"
      ]
    },
    {
      "cell_type": "markdown",
      "source": [
        "**Customer's Age Analysis**"
      ],
      "metadata": {
        "id": "B7i-N1otX7sK"
      }
    },
    {
      "cell_type": "code",
      "source": [
        "age=pd.DataFrame(round(Train_Data[\"Age_In_Days\"]/365.5))\n",
        "age[\"Age_In_Days\"].plot(kind=\"hist\")\n",
        "ax.set_ylabel('Count', fontsize=14);\n",
        "plt.title('Age(Years) Distributions ',  fontsize=16);\n",
        "plt.rc('font', size=14) ;      \n",
        "plt.rc('font', family='serif');"
      ],
      "metadata": {
        "id": "Whq5FJDOYHcp",
        "colab": {
          "base_uri": "https://localhost:8080/",
          "height": 288
        },
        "outputId": "58ff90d9-35bc-49bd-ddd8-19978528711f"
      },
      "execution_count": 25,
      "outputs": [
        {
          "output_type": "display_data",
          "data": {
            "text/plain": [
              "<Figure size 432x288 with 1 Axes>"
            ],
            "image/png": "[encoded data removed]"
          },
          "metadata": {
            "needs_background": "light"
          }
        }
      ]
    },
    {
      "cell_type": "markdown",
      "source": [
        "**From the plot above, it can be inferred that:**\n",
        "\n",
        "\n",
        "* The majority of customers are in their late twenties to late thirties.\n",
        "* A minority of the customers are in their fifties.\n",
        "* The customers' average age is in their early twenties.\n",
        "\n",
        "\n",
        "\n"
      ],
      "metadata": {
        "id": "sUhJiuxRU-x6"
      }
    },
    {
      "cell_type": "code",
      "execution_count": 26,
      "metadata": {
        "colab": {
          "base_uri": "https://localhost:8080/",
          "height": 417
        },
        "id": "0SSHoGIuGSpj",
        "outputId": "6c77a2ce-d9c1-4c4b-fdd3-c8171f99b729"
      },
      "outputs": [
        {
          "output_type": "display_data",
          "data": {
            "text/plain": [
              "<Figure size 432x288 with 2 Axes>"
            ],
            "image/png": "[encoded data removed]"
          },
          "metadata": {
            "needs_background": "light"
          }
        }
      ],
      "source": [
        "sns.heatmap(data=Bank_Train.corr());"
      ]
    },
    {
      "cell_type": "markdown",
      "metadata": {
        "id": "DpNbDVLtHE1l"
      },
      "source": [
        "**Machine Learning Model Building**"
      ]
    },
    {
      "cell_type": "code",
      "execution_count": 27,
      "metadata": {
        "colab": {
          "base_uri": "https://localhost:8080/"
        },
        "id": "VBvh3HGbJmg5",
        "outputId": "9ebadf6a-3d29-4bf1-881a-4d5118155dbe"
      },
      "outputs": [
        {
          "output_type": "stream",
          "name": "stdout",
          "text": [
            "Shape of the Bank_Train:  (4346, 11)\n",
            "X shape: (4346, 10)\n",
            "Y shape: (4346,)\n"
          ]
        }
      ],
      "source": [
        "Train_Data.columns\n",
        "X= Bank_Train.drop([\"good_bad_flag\"], axis=1)\n",
        "Y= Bank_Train.good_bad_flag\n",
        "\n",
        "print(\"Shape of the Bank_Train: \", Bank_Train.shape)\n",
        "print(\"X shape:\", X.shape)\n",
        "print(\"Y shape:\", Y.shape)"
      ]
    },
    {
      "cell_type": "code",
      "execution_count": 28,
      "metadata": {
        "colab": {
          "base_uri": "https://localhost:8080/",
          "height": 281
        },
        "id": "hny1nj67ojSU",
        "outputId": "7771041c-6f4c-4974-c6e5-bb6410830626"
      },
      "outputs": [
        {
          "output_type": "execute_result",
          "data": {
            "text/plain": [
              "                                  loannumber  loanamount  totaldue  termdays  \\\n",
              "customerid                                                                     \n",
              "8a1088a0484472eb01484669e3ce4e0b         2.0     10000.0   11500.0      15.0   \n",
              "8a1a1e7e4f707f8b014f797718316cad         5.0     30000.0   39000.0      60.0   \n",
              "8a1a32fc49b632520149c3b8fdf85139         8.0     20000.0   24500.0      30.0   \n",
              "8a1eb5ba49a682300149c3c068b806c7         9.0     30000.0   39000.0      60.0   \n",
              "8a1edbf14734127f0147356fdb1b1eb2         3.0     10000.0   11500.0      15.0   \n",
              "\n",
              "                                  longitude_gps  latitude_gps   Age_In_Days  \\\n",
              "customerid                                                                    \n",
              "8a1088a0484472eb01484669e3ce4e0b       4.703344      8.145461  10632.780556   \n",
              "8a1a1e7e4f707f8b014f797718316cad       3.379558      6.528579   9140.792894   \n",
              "8a1a32fc49b632520149c3b8fdf85139       3.875880      7.346442  12962.765336   \n",
              "8a1eb5ba49a682300149c3c068b806c7       3.204174      6.458467  13598.981875   \n",
              "8a1edbf14734127f0147356fdb1b1eb2       3.304591      6.503161  18166.626343   \n",
              "\n",
              "                                  Approval_Period_days  Loan_Period_days  \\\n",
              "customerid                                                                 \n",
              "8a1088a0484472eb01484669e3ce4e0b              0.041759       -146.420984   \n",
              "8a1a1e7e4f707f8b014f797718316cad              0.041759        -92.356030   \n",
              "8a1a32fc49b632520149c3b8fdf85139              0.041782        -76.513785   \n",
              "8a1eb5ba49a682300149c3c068b806c7              0.041771        -91.241030   \n",
              "8a1edbf14734127f0147356fdb1b1eb2              0.041759       -226.573889   \n",
              "\n",
              "                                  Due_Period_Days  \n",
              "customerid                                         \n",
              "8a1088a0484472eb01484669e3ce4e0b        -4.349039  \n",
              "8a1a1e7e4f707f8b014f797718316cad         6.573669  \n",
              "8a1a32fc49b632520149c3b8fdf85139         3.758970  \n",
              "8a1eb5ba49a682300149c3c068b806c7         4.269676  \n",
              "8a1edbf14734127f0147356fdb1b1eb2        -0.018715  "
            ],
            "text/html": [
              "\n",
              "  <div id=\"df-11f687c2-661a-418e-a2a7-e6552d5b9fa0\">\n",
              "    <div class=\"colab-df-container\">\n",
              "      <div>\n",
              "<style scoped>\n",
              "    .dataframe tbody tr th:only-of-type {\n",
              "        vertical-align: middle;\n",
              "    }\n",
              "\n",
              "    .dataframe tbody tr th {\n",
              "        vertical-align: top;\n",
              "    }\n",
              "\n",
              "    .dataframe thead th {\n",
              "        text-align: right;\n",
              "    }\n",
              "</style>\n",
              "<table border=\"1\" class=\"dataframe\">\n",
              "  <thead>\n",
              "    <tr style=\"text-align: right;\">\n",
              "      <th></th>\n",
              "      <th>loannumber</th>\n",
              "      <th>loanamount</th>\n",
              "      <th>totaldue</th>\n",
              "      <th>termdays</th>\n",
              "      <th>longitude_gps</th>\n",
              "      <th>latitude_gps</th>\n",
              "      <th>Age_In_Days</th>\n",
              "      <th>Approval_Period_days</th>\n",
              "      <th>Loan_Period_days</th>\n",
              "      <th>Due_Period_Days</th>\n",
              "    </tr>\n",
              "    <tr>\n",
              "      <th>customerid</th>\n",
              "      <th></th>\n",
              "      <th></th>\n",
              "      <th></th>\n",
              "      <th></th>\n",
              "      <th></th>\n",
              "      <th></th>\n",
              "      <th></th>\n",
              "      <th></th>\n",
              "      <th></th>\n",
              "      <th></th>\n",
              "    </tr>\n",
              "  </thead>\n",
              "  <tbody>\n",
              "    <tr>\n",
              "      <th>8a1088a0484472eb01484669e3ce4e0b</th>\n",
              "      <td>2.0</td>\n",
              "      <td>10000.0</td>\n",
              "      <td>11500.0</td>\n",
              "      <td>15.0</td>\n",
              "      <td>4.703344</td>\n",
              "      <td>8.145461</td>\n",
              "      <td>10632.780556</td>\n",
              "      <td>0.041759</td>\n",
              "      <td>-146.420984</td>\n",
              "      <td>-4.349039</td>\n",
              "    </tr>\n",
              "    <tr>\n",
              "      <th>8a1a1e7e4f707f8b014f797718316cad</th>\n",
              "      <td>5.0</td>\n",
              "      <td>30000.0</td>\n",
              "      <td>39000.0</td>\n",
              "      <td>60.0</td>\n",
              "      <td>3.379558</td>\n",
              "      <td>6.528579</td>\n",
              "      <td>9140.792894</td>\n",
              "      <td>0.041759</td>\n",
              "      <td>-92.356030</td>\n",
              "      <td>6.573669</td>\n",
              "    </tr>\n",
              "    <tr>\n",
              "      <th>8a1a32fc49b632520149c3b8fdf85139</th>\n",
              "      <td>8.0</td>\n",
              "      <td>20000.0</td>\n",
              "      <td>24500.0</td>\n",
              "      <td>30.0</td>\n",
              "      <td>3.875880</td>\n",
              "      <td>7.346442</td>\n",
              "      <td>12962.765336</td>\n",
              "      <td>0.041782</td>\n",
              "      <td>-76.513785</td>\n",
              "      <td>3.758970</td>\n",
              "    </tr>\n",
              "    <tr>\n",
              "      <th>8a1eb5ba49a682300149c3c068b806c7</th>\n",
              "      <td>9.0</td>\n",
              "      <td>30000.0</td>\n",
              "      <td>39000.0</td>\n",
              "      <td>60.0</td>\n",
              "      <td>3.204174</td>\n",
              "      <td>6.458467</td>\n",
              "      <td>13598.981875</td>\n",
              "      <td>0.041771</td>\n",
              "      <td>-91.241030</td>\n",
              "      <td>4.269676</td>\n",
              "    </tr>\n",
              "    <tr>\n",
              "      <th>8a1edbf14734127f0147356fdb1b1eb2</th>\n",
              "      <td>3.0</td>\n",
              "      <td>10000.0</td>\n",
              "      <td>11500.0</td>\n",
              "      <td>15.0</td>\n",
              "      <td>3.304591</td>\n",
              "      <td>6.503161</td>\n",
              "      <td>18166.626343</td>\n",
              "      <td>0.041759</td>\n",
              "      <td>-226.573889</td>\n",
              "      <td>-0.018715</td>\n",
              "    </tr>\n",
              "  </tbody>\n",
              "</table>\n",
              "</div>\n",
              "      <button class=\"colab-df-convert\" onclick=\"convertToInteractive('df-11f687c2-661a-418e-a2a7-e6552d5b9fa0')\"\n",
              "              title=\"Convert this dataframe to an interactive table.\"\n",
              "              style=\"display:none;\">\n",
              "        \n",
              "  <svg xmlns=\"http://www.w3.org/2000/svg\" height=\"24px\"viewBox=\"0 0 24 24\"\n",
              "       width=\"24px\">\n",
              "    <path d=\"M0 0h24v24H0V0z\" fill=\"none\"/>\n",
              "    <path d=\"M18.56 5.44l.94 2.06.94-2.06 2.06-.94-2.06-.94-.94-2.06-.94 2.06-2.06.94zm-11 1L8.5 8.5l.94-2.06 2.06-.94-2.06-.94L8.5 2.5l-.94 2.06-2.06.94zm10 10l.94 2.06.94-2.06 2.06-.94-2.06-.94-.94-2.06-.94 2.06-2.06.94z\"/><path d=\"M17.41 7.96l-1.37-1.37c-.4-.4-.92-.59-1.43-.59-.52 0-1.04.2-1.43.59L10.3 9.45l-7.72 7.72c-.78.78-.78 2.05 0 2.83L4 21.41c.39.39.9.59 1.41.59.51 0 1.02-.2 1.41-.59l7.78-7.78 2.81-2.81c.8-.78.8-2.07 0-2.86zM5.41 20L4 18.59l7.72-7.72 1.47 1.35L5.41 20z\"/>\n",
              "  </svg>\n",
              "      </button>\n",
              "      \n",
              "  <style>\n",
              "    .colab-df-container {\n",
              "      display:flex;\n",
              "      flex-wrap:wrap;\n",
              "      gap: 12px;\n",
              "    }\n",
              "\n",
              "    .colab-df-convert {\n",
              "      background-color: #E8F0FE;\n",
              "      border: none;\n",
              "      border-radius: 50%;\n",
              "      cursor: pointer;\n",
              "      display: none;\n",
              "      fill: #1967D2;\n",
              "      height: 32px;\n",
              "      padding: 0 0 0 0;\n",
              "      width: 32px;\n",
              "    }\n",
              "\n",
              "    .colab-df-convert:hover {\n",
              "      background-color: #E2EBFA;\n",
              "      box-shadow: 0px 1px 2px rgba(60, 64, 67, 0.3), 0px 1px 3px 1px rgba(60, 64, 67, 0.15);\n",
              "      fill: #174EA6;\n",
              "    }\n",
              "\n",
              "    [theme=dark] .colab-df-convert {\n",
              "      background-color: #3B4455;\n",
              "      fill: #D2E3FC;\n",
              "    }\n",
              "\n",
              "    [theme=dark] .colab-df-convert:hover {\n",
              "      background-color: #434B5C;\n",
              "      box-shadow: 0px 1px 3px 1px rgba(0, 0, 0, 0.15);\n",
              "      filter: drop-shadow(0px 1px 2px rgba(0, 0, 0, 0.3));\n",
              "      fill: #FFFFFF;\n",
              "    }\n",
              "  </style>\n",
              "\n",
              "      <script>\n",
              "        const buttonEl =\n",
              "          document.querySelector('#df-11f687c2-661a-418e-a2a7-e6552d5b9fa0 button.colab-df-convert');\n",
              "        buttonEl.style.display =\n",
              "          google.colab.kernel.accessAllowed ? 'block' : 'none';\n",
              "\n",
              "        async function convertToInteractive(key) {\n",
              "          const element = document.querySelector('#df-11f687c2-661a-418e-a2a7-e6552d5b9fa0');\n",
              "          const dataTable =\n",
              "            await google.colab.kernel.invokeFunction('convertToInteractive',\n",
              "                                                     [key], {});\n",
              "          if (!dataTable) return;\n",
              "\n",
              "          const docLinkHtml = 'Like what you see? Visit the ' +\n",
              "            '<a target=\"_blank\" href=https://colab.research.google.com/notebooks/data_table.ipynb>data table notebook</a>'\n",
              "            + ' to learn more about interactive tables.';\n",
              "          element.innerHTML = '';\n",
              "          dataTable['output_type'] = 'display_data';\n",
              "          await google.colab.output.renderOutput(dataTable, element);\n",
              "          const docLink = document.createElement('div');\n",
              "          docLink.innerHTML = docLinkHtml;\n",
              "          element.appendChild(docLink);\n",
              "        }\n",
              "      </script>\n",
              "    </div>\n",
              "  </div>\n",
              "  "
            ]
          },
          "metadata": {},
          "execution_count": 28
        }
      ],
      "source": [
        "X.head()"
      ]
    },
    {
      "cell_type": "code",
      "execution_count": 29,
      "metadata": {
        "id": "fUaxrSgXHS4o"
      },
      "outputs": [],
      "source": [
        "#Import libraries\n",
        "from sklearn.ensemble import RandomForestClassifier, GradientBoostingClassifier\n",
        "from sklearn.metrics import ConfusionMatrixDisplay, classification_report\n",
        "from sklearn.model_selection import GridSearchCV, cross_val_score, train_test_split\n",
        "from sklearn.metrics import accuracy_score\n",
        "from imblearn.over_sampling import RandomOverSampler\n",
        "from imblearn.under_sampling import RandomUnderSampler\n",
        "#Spliting the training data into train and validaton data set\n",
        "X_train, X_val, y_train, y_val= train_test_split(X,Y,test_size= 0.3, random_state= 49)\n"
      ]
    },
    {
      "cell_type": "code",
      "execution_count": 30,
      "metadata": {
        "colab": {
          "base_uri": "https://localhost:8080/"
        },
        "id": "UdujSydzZo8v",
        "outputId": "c0c7c1a6-075e-451d-c20c-3335726fdec0"
      },
      "outputs": [
        {
          "output_type": "stream",
          "name": "stdout",
          "text": [
            "X_train shape is :  (3042, 10)\n",
            "y_train shape is :  (3042,)\n",
            "X_val shape is :  (1304, 10)\n",
            "y_val shape is :  (1304,)\n"
          ]
        }
      ],
      "source": [
        "print (\"X_train shape is : \" , X_train.shape)\n",
        "print (\"y_train shape is : \" , y_train.shape)\n",
        "print (\"X_val shape is : \" , X_val.shape)\n",
        "print (\"y_val shape is : \" , y_val.shape)"
      ]
    },
    {
      "cell_type": "code",
      "execution_count": 31,
      "metadata": {
        "id": "Sc9DT2jlJPXt"
      },
      "outputs": [],
      "source": [
        "over_sampler = RandomOverSampler(random_state=42)\n",
        "X_train_over, y_train_over = over_sampler.fit_resample(X_train, y_train)\n",
        "\n",
        "under_sampler = RandomUnderSampler(random_state=42)\n",
        "X_train_under, y_train_under = under_sampler.fit_resample(X_train, y_train)\n",
        "#sampling the training dataset to have a balance class"
      ]
    },
    {
      "cell_type": "code",
      "execution_count": 32,
      "metadata": {
        "colab": {
          "base_uri": "https://localhost:8080/"
        },
        "id": "xHkd016RJmAQ",
        "outputId": "17a4ca8b-23b1-4326-fb9a-8554d267c51a"
      },
      "outputs": [
        {
          "output_type": "execute_result",
          "data": {
            "text/plain": [
              "0.0    0.5\n",
              "1.0    0.5\n",
              "Name: good_bad_flag, dtype: float64"
            ]
          },
          "metadata": {},
          "execution_count": 32
        }
      ],
      "source": [
        "y_train_under.value_counts(normalize=True)"
      ]
    },
    {
      "cell_type": "markdown",
      "metadata": {
        "id": "3wPpE8HK3Qf9"
      },
      "source": [
        "**Using an ensemble Random Forest classifier (Model_1) and grid search to optimize the best parameters**\n",
        "\n",
        "\n"
      ]
    },
    {
      "cell_type": "code",
      "execution_count": 33,
      "metadata": {
        "colab": {
          "base_uri": "https://localhost:8080/"
        },
        "id": "JGjaNLodIeKE",
        "outputId": "8bf7a168-f164-4d6c-9195-565f5359e4e7"
      },
      "outputs": [
        {
          "output_type": "execute_result",
          "data": {
            "text/plain": [
              "{'n_estimators': range(50, 300, 50), 'max_depth': range(10, 50, 10)}"
            ]
          },
          "metadata": {},
          "execution_count": 33
        }
      ],
      "source": [
        "Rb= RandomForestClassifier(random_state= 42)\n",
        "params = {\n",
        "    \"n_estimators\": range(50, 300, 50),\n",
        "    \"max_depth\": range(10, 50, 10)\n",
        "    }\n",
        "params"
      ]
    },
    {
      "cell_type": "code",
      "execution_count": 34,
      "metadata": {
        "colab": {
          "base_uri": "https://localhost:8080/"
        },
        "id": "TZPF1itFtuVh",
        "outputId": "c2ad5846-357f-400b-da6c-584f6de18019"
      },
      "outputs": [
        {
          "output_type": "stream",
          "name": "stdout",
          "text": [
            "Fitting 5 folds for each of 20 candidates, totalling 100 fits\n"
          ]
        },
        {
          "output_type": "execute_result",
          "data": {
            "text/plain": [
              "GridSearchCV(cv=5, estimator=RandomForestClassifier(random_state=42), n_jobs=-1,\n",
              "             param_grid={'max_depth': range(10, 50, 10),\n",
              "                         'n_estimators': range(50, 300, 50)},\n",
              "             verbose=1)"
            ]
          },
          "metadata": {},
          "execution_count": 34
        }
      ],
      "source": [
        "Model_1=GridSearchCV(\n",
        "    Rb,\n",
        "    param_grid=params,\n",
        "    cv=5,\n",
        "    n_jobs=-1,\n",
        "    verbose=1\n",
        "\n",
        ")\n",
        "#Fitting the model\n",
        "Model_1.fit(X_train_over, y_train_over)"
      ]
    },
    {
      "cell_type": "code",
      "execution_count": 35,
      "metadata": {
        "colab": {
          "base_uri": "https://localhost:8080/"
        },
        "id": "FCiBj4Qw1c2l",
        "outputId": "9ad91ea7-e4e4-4391-f70d-ae4d47a5a052"
      },
      "outputs": [
        {
          "output_type": "execute_result",
          "data": {
            "text/plain": [
              "{'max_depth': 30, 'n_estimators': 250}"
            ]
          },
          "metadata": {},
          "execution_count": 35
        }
      ],
      "source": [
        "Model_1.best_params_\n"
      ]
    },
    {
      "cell_type": "code",
      "execution_count": 36,
      "metadata": {
        "colab": {
          "base_uri": "https://localhost:8080/",
          "height": 287
        },
        "id": "MppKSNpA2noW",
        "outputId": "1224d386-c955-44f4-e94e-9e53db1fb231"
      },
      "outputs": [
        {
          "output_type": "display_data",
          "data": {
            "text/plain": [
              "<Figure size 432x288 with 2 Axes>"
            ],
            "image/png": "[encoded data removed]"
          },
          "metadata": {
            "needs_background": "light"
          }
        }
      ],
      "source": [
        "ConfusionMatrixDisplay.from_estimator(Model_1, X_val, y_val);"
      ]
    },
    {
      "cell_type": "markdown",
      "metadata": {
        "id": "u_Eo0f_3AiYB"
      },
      "source": [
        "Model_1 (Random Forest Classifier) Confusion Matrix"
      ]
    },
    {
      "cell_type": "markdown",
      "metadata": {
        "id": "W4dM6J1Dj03V"
      },
      "source": [
        "**Using an ensemble model, Gradient Boosting Classifiers(Model_2), and grid search to optimize the best parameters**"
      ]
    },
    {
      "cell_type": "code",
      "execution_count": 37,
      "metadata": {
        "colab": {
          "base_uri": "https://localhost:8080/"
        },
        "id": "r0LeTUnYlWI3",
        "outputId": "33fdb8c4-5bc9-4129-f81b-e62cffe1a751"
      },
      "outputs": [
        {
          "output_type": "stream",
          "name": "stdout",
          "text": [
            "Fitting 5 folds for each of 20 candidates, totalling 100 fits\n"
          ]
        },
        {
          "output_type": "execute_result",
          "data": {
            "text/plain": [
              "GridSearchCV(cv=5, estimator=GradientBoostingClassifier(random_state=42),\n",
              "             n_jobs=-1,\n",
              "             param_grid={'max_depth': range(10, 50, 10),\n",
              "                         'n_estimators': range(50, 300, 50)},\n",
              "             verbose=1)"
            ]
          },
          "metadata": {},
          "execution_count": 37
        }
      ],
      "source": [
        "Gb= GradientBoostingClassifier(random_state= 42)\n",
        "params = {\n",
        "    \"n_estimators\": range(50, 300, 50),\n",
        "    \"max_depth\": range(10, 50, 10)\n",
        "    }\n",
        "\n",
        "Model_2= GridSearchCV(Gb, param_grid=params, cv=5, n_jobs=-1,verbose=1)\n",
        "#Fiitig the model\n",
        "Model_2.fit(X_train_over, y_train_over)"
      ]
    },
    {
      "cell_type": "code",
      "execution_count": 38,
      "metadata": {
        "colab": {
          "base_uri": "https://localhost:8080/"
        },
        "id": "7pyoHbzumD1O",
        "outputId": "db4150cc-9d2e-46d0-ee84-77651ca25e05"
      },
      "outputs": [
        {
          "output_type": "stream",
          "name": "stdout",
          "text": [
            "Model_1 training Accuracy: 1.0\n",
            "Model_1 test Accuracy: 0.7538\n"
          ]
        }
      ],
      "source": [
        "acc_train_g = Model_2.score(X_train_over, y_train_over)\n",
        "acc_test_g= Model_2.score(X_val, y_val)\n",
        "\n",
        "print(\"Model_1 training Accuracy:\", round(acc_train_g, 4))\n",
        "print(\"Model_1 test Accuracy:\", round(acc_test_g, 4))"
      ]
    },
    {
      "cell_type": "code",
      "execution_count": 39,
      "metadata": {
        "colab": {
          "base_uri": "https://localhost:8080/",
          "height": 287
        },
        "id": "yR255kaApnvZ",
        "outputId": "a09755f5-fccb-45fd-cc6e-c68f774824fe"
      },
      "outputs": [
        {
          "output_type": "display_data",
          "data": {
            "text/plain": [
              "<Figure size 432x288 with 2 Axes>"
            ],
            "image/png": "[encoded data removed]"
          },
          "metadata": {
            "needs_background": "light"
          }
        }
      ],
      "source": [
        "ConfusionMatrixDisplay.from_estimator(Model_2, X_val, y_val);"
      ]
    },
    {
      "cell_type": "markdown",
      "metadata": {
        "id": "3dLqMzJIETOb"
      },
      "source": [
        "Boosting Classifier (Model_2) Confusion Matrix"
      ]
    },
    {
      "cell_type": "markdown",
      "metadata": {
        "id": "dhPvM3rUrK5J"
      },
      "source": [
        "**Comparing the two models**"
      ]
    },
    {
      "cell_type": "code",
      "execution_count": 40,
      "metadata": {
        "colab": {
          "base_uri": "https://localhost:8080/"
        },
        "id": "BYQn0bRRrI4U",
        "outputId": "2e4462f1-7d7f-4a96-c7a4-103c42708dea"
      },
      "outputs": [
        {
          "output_type": "stream",
          "name": "stdout",
          "text": [
            "Random forest classifier(Model_1) has the best score of: 0.9380293713569247\n",
            "Gradient Boosting classifier(Model_2) has the best score of: 0.93908266752033\n"
          ]
        }
      ],
      "source": [
        "print(\"Random forest classifier(Model_1) has the best score of:\", Model_1.best_score_)\n",
        "print(\"Gradient Boosting classifier(Model_2) has the best score of:\", Model_2.best_score_)"
      ]
    },
    {
      "cell_type": "code",
      "execution_count": 41,
      "metadata": {
        "colab": {
          "base_uri": "https://localhost:8080/"
        },
        "id": "LJUEhH0Oxrm7",
        "outputId": "c1d3452f-96d3-470f-f6fb-e3ec4720bdba"
      },
      "outputs": [
        {
          "output_type": "stream",
          "name": "stdout",
          "text": [
            "Random forest classifier(Model_1) has an accuracy score of: 0.7584355828220859\n",
            "Gradient Boosting classifier(Model_2) an the accuracy score of: 0.7538343558282209\n"
          ]
        }
      ],
      "source": [
        "print(\"Random forest classifier(Model_1) has an accuracy score of:\", accuracy_score(y_val, Model_1.predict(X_val)))\n",
        "\n",
        "\n",
        "print(\"Gradient Boosting classifier(Model_2) an the accuracy score of:\", accuracy_score(y_val, Model_2.predict(X_val)))"
      ]
    },
    {
      "cell_type": "markdown",
      "metadata": {
        "id": "vgFGmd2WMw3y"
      },
      "source": [
        "**Classification report for Model_1 (Random Forest Decison Classifier)**\n"
      ]
    },
    {
      "cell_type": "code",
      "execution_count": 42,
      "metadata": {
        "colab": {
          "base_uri": "https://localhost:8080/"
        },
        "id": "ftBzMqsy8Ynn",
        "outputId": "fc3f1b19-8e07-44f4-eb97-f21952f985f6"
      },
      "outputs": [
        {
          "output_type": "stream",
          "name": "stdout",
          "text": [
            "              precision    recall  f1-score   support\n",
            "\n",
            "         0.0       0.26      0.08      0.12       273\n",
            "         1.0       0.79      0.94      0.86      1031\n",
            "\n",
            "    accuracy                           0.76      1304\n",
            "   macro avg       0.52      0.51      0.49      1304\n",
            "weighted avg       0.68      0.76      0.71      1304\n",
            "\n"
          ]
        }
      ],
      "source": [
        "report=classification_report(y_val,Model_1.predict(X_val) )\n",
        "print(report);"
      ]
    },
    {
      "cell_type": "markdown",
      "metadata": {
        "id": "3ahHbYohM5MT"
      },
      "source": [
        "**Classification report for Model_2 (Gradient Bosting Classifier)**"
      ]
    },
    {
      "cell_type": "code",
      "execution_count": 43,
      "metadata": {
        "colab": {
          "base_uri": "https://localhost:8080/"
        },
        "id": "315EDOL28yAW",
        "outputId": "8565e522-f9ce-4e0c-f1ff-bc7cc13b08d9"
      },
      "outputs": [
        {
          "output_type": "stream",
          "name": "stdout",
          "text": [
            "              precision    recall  f1-score   support\n",
            "\n",
            "         0.0       0.22      0.07      0.11       273\n",
            "         1.0       0.79      0.94      0.86      1031\n",
            "\n",
            "    accuracy                           0.75      1304\n",
            "   macro avg       0.51      0.50      0.48      1304\n",
            "weighted avg       0.67      0.75      0.70      1304\n",
            "\n"
          ]
        }
      ],
      "source": [
        "report=classification_report(y_val,Model_2.predict(X_val) )\n",
        "print(report);"
      ]
    },
    {
      "cell_type": "markdown",
      "metadata": {
        "id": "oatStM0G_9ff"
      },
      "source": [
        "**Model Selection**\n",
        "\n",
        "*Model_1 (the Random Forest Decision Classifier) has a precision score of 0.68, a recall score of 0.76, and an accuracy score of 0.7584. While Model_2 (the Gradient Bosting Decision Classifier) has a precision score of 0.67, a recall score of 0.75, and an accuracy score of 0.7538, Hence, taking all this classification report into consideration, Model_1 (the Random Forest Decision Classifier) will make a better prediction and would be a great fit to solve our business problem. Aside from the result metrics, Model_2 (Gradient Bosting Classifier) takes a longer period to fit the data set into the model as compared to Model_1 (Random Forest Classifier), which has a very short fitting period, and that can be of great advantage.*"
      ]
    },
    {
      "cell_type": "markdown",
      "source": [
        "**Save the model**"
      ],
      "metadata": {
        "id": "2wlIUfk7rLwg"
      }
    },
    {
      "cell_type": "code",
      "source": [
        "import pickle\n",
        "\n",
        "#Save the model\n",
        "with open(\"SuperLender_Loan_Defaulter_Prediction.pkl\", \"wb\") as f:\n",
        "    pickle.dump(Model_1, f)\n"
      ],
      "metadata": {
        "id": "-OUt19hOrWVi"
      },
      "execution_count": 44,
      "outputs": []
    },
    {
      "cell_type": "markdown",
      "metadata": {
        "id": "m4vagtY_HURI"
      },
      "source": [
        "**Result Communication**"
      ]
    },
    {
      "cell_type": "code",
      "execution_count": 45,
      "metadata": {
        "colab": {
          "base_uri": "https://localhost:8080/",
          "height": 422
        },
        "id": "XYyZ7a3rHsY_",
        "outputId": "9a04081a-d3c5-4f8f-e867-fa1f8fc6e0eb"
      },
      "outputs": [
        {
          "output_type": "display_data",
          "data": {
            "text/plain": [
              "<Figure size 576x432 with 1 Axes>"
            ],
            "image/png": "[encoded data removed]"
          },
          "metadata": {
            "needs_background": "light"
          }
        }
      ],
      "source": [
        "# Get feature names from training data\n",
        "features = X_train_over.columns\n",
        "# Extract importances from Model_1\n",
        "importances=Model_1.best_estimator_.feature_importances_\n",
        "\n",
        "# Create a series with feature names and importances\n",
        "feat_imp = pd.Series(importances, index=features).sort_values()\n",
        "# Plot 10 most important features\n",
        "plt.figure(figsize=(8,6))\n",
        "feat_imp.tail(10).plot(kind=\"barh\")\n",
        "plt.xlabel(\"Gini Importance\", fontsize=20, fontfamily=\"serif\")\n",
        "#plt.ylabel(\"Feature\", fontsize=20, fontfamily=\"serif\");\n",
        "plt.title(\"Feature Importance\", fontsize=20, fontfamily=\"serif\");\n"
      ]
    },
    {
      "cell_type": "code",
      "execution_count": 46,
      "metadata": {
        "colab": {
          "base_uri": "https://localhost:8080/",
          "height": 363
        },
        "id": "IxVve0xEH-Pd",
        "outputId": "f6e16db6-0ea9-4184-b4a1-d8351164f94f"
      },
      "outputs": [
        {
          "output_type": "execute_result",
          "data": {
            "text/plain": [
              "                             0\n",
              "termdays              0.017250\n",
              "loanamount            0.020824\n",
              "totaldue              0.051461\n",
              "loannumber            0.059026\n",
              "Approval_Period_days  0.084385\n",
              "longitude_gps         0.151339\n",
              "latitude_gps          0.151426\n",
              "Loan_Period_days      0.152377\n",
              "Age_In_Days           0.153243\n",
              "Due_Period_Days       0.158669"
            ],
            "text/html": [
              "\n",
              "  <div id=\"df-3376a0a9-b29c-4d59-b2de-f7d161baeafe\">\n",
              "    <div class=\"colab-df-container\">\n",
              "      <div>\n",
              "<style scoped>\n",
              "    .dataframe tbody tr th:only-of-type {\n",
              "        vertical-align: middle;\n",
              "    }\n",
              "\n",
              "    .dataframe tbody tr th {\n",
              "        vertical-align: top;\n",
              "    }\n",
              "\n",
              "    .dataframe thead th {\n",
              "        text-align: right;\n",
              "    }\n",
              "</style>\n",
              "<table border=\"1\" class=\"dataframe\">\n",
              "  <thead>\n",
              "    <tr style=\"text-align: right;\">\n",
              "      <th></th>\n",
              "      <th>0</th>\n",
              "    </tr>\n",
              "  </thead>\n",
              "  <tbody>\n",
              "    <tr>\n",
              "      <th>termdays</th>\n",
              "      <td>0.017250</td>\n",
              "    </tr>\n",
              "    <tr>\n",
              "      <th>loanamount</th>\n",
              "      <td>0.020824</td>\n",
              "    </tr>\n",
              "    <tr>\n",
              "      <th>totaldue</th>\n",
              "      <td>0.051461</td>\n",
              "    </tr>\n",
              "    <tr>\n",
              "      <th>loannumber</th>\n",
              "      <td>0.059026</td>\n",
              "    </tr>\n",
              "    <tr>\n",
              "      <th>Approval_Period_days</th>\n",
              "      <td>0.084385</td>\n",
              "    </tr>\n",
              "    <tr>\n",
              "      <th>longitude_gps</th>\n",
              "      <td>0.151339</td>\n",
              "    </tr>\n",
              "    <tr>\n",
              "      <th>latitude_gps</th>\n",
              "      <td>0.151426</td>\n",
              "    </tr>\n",
              "    <tr>\n",
              "      <th>Loan_Period_days</th>\n",
              "      <td>0.152377</td>\n",
              "    </tr>\n",
              "    <tr>\n",
              "      <th>Age_In_Days</th>\n",
              "      <td>0.153243</td>\n",
              "    </tr>\n",
              "    <tr>\n",
              "      <th>Due_Period_Days</th>\n",
              "      <td>0.158669</td>\n",
              "    </tr>\n",
              "  </tbody>\n",
              "</table>\n",
              "</div>\n",
              "      <button class=\"colab-df-convert\" onclick=\"convertToInteractive('df-3376a0a9-b29c-4d59-b2de-f7d161baeafe')\"\n",
              "              title=\"Convert this dataframe to an interactive table.\"\n",
              "              style=\"display:none;\">\n",
              "        \n",
              "  <svg xmlns=\"http://www.w3.org/2000/svg\" height=\"24px\"viewBox=\"0 0 24 24\"\n",
              "       width=\"24px\">\n",
              "    <path d=\"M0 0h24v24H0V0z\" fill=\"none\"/>\n",
              "    <path d=\"M18.56 5.44l.94 2.06.94-2.06 2.06-.94-2.06-.94-.94-2.06-.94 2.06-2.06.94zm-11 1L8.5 8.5l.94-2.06 2.06-.94-2.06-.94L8.5 2.5l-.94 2.06-2.06.94zm10 10l.94 2.06.94-2.06 2.06-.94-2.06-.94-.94-2.06-.94 2.06-2.06.94z\"/><path d=\"M17.41 7.96l-1.37-1.37c-.4-.4-.92-.59-1.43-.59-.52 0-1.04.2-1.43.59L10.3 9.45l-7.72 7.72c-.78.78-.78 2.05 0 2.83L4 21.41c.39.39.9.59 1.41.59.51 0 1.02-.2 1.41-.59l7.78-7.78 2.81-2.81c.8-.78.8-2.07 0-2.86zM5.41 20L4 18.59l7.72-7.72 1.47 1.35L5.41 20z\"/>\n",
              "  </svg>\n",
              "      </button>\n",
              "      \n",
              "  <style>\n",
              "    .colab-df-container {\n",
              "      display:flex;\n",
              "      flex-wrap:wrap;\n",
              "      gap: 12px;\n",
              "    }\n",
              "\n",
              "    .colab-df-convert {\n",
              "      background-color: #E8F0FE;\n",
              "      border: none;\n",
              "      border-radius: 50%;\n",
              "      cursor: pointer;\n",
              "      display: none;\n",
              "      fill: #1967D2;\n",
              "      height: 32px;\n",
              "      padding: 0 0 0 0;\n",
              "      width: 32px;\n",
              "    }\n",
              "\n",
              "    .colab-df-convert:hover {\n",
              "      background-color: #E2EBFA;\n",
              "      box-shadow: 0px 1px 2px rgba(60, 64, 67, 0.3), 0px 1px 3px 1px rgba(60, 64, 67, 0.15);\n",
              "      fill: #174EA6;\n",
              "    }\n",
              "\n",
              "    [theme=dark] .colab-df-convert {\n",
              "      background-color: #3B4455;\n",
              "      fill: #D2E3FC;\n",
              "    }\n",
              "\n",
              "    [theme=dark] .colab-df-convert:hover {\n",
              "      background-color: #434B5C;\n",
              "      box-shadow: 0px 1px 3px 1px rgba(0, 0, 0, 0.15);\n",
              "      filter: drop-shadow(0px 1px 2px rgba(0, 0, 0, 0.3));\n",
              "      fill: #FFFFFF;\n",
              "    }\n",
              "  </style>\n",
              "\n",
              "      <script>\n",
              "        const buttonEl =\n",
              "          document.querySelector('#df-3376a0a9-b29c-4d59-b2de-f7d161baeafe button.colab-df-convert');\n",
              "        buttonEl.style.display =\n",
              "          google.colab.kernel.accessAllowed ? 'block' : 'none';\n",
              "\n",
              "        async function convertToInteractive(key) {\n",
              "          const element = document.querySelector('#df-3376a0a9-b29c-4d59-b2de-f7d161baeafe');\n",
              "          const dataTable =\n",
              "            await google.colab.kernel.invokeFunction('convertToInteractive',\n",
              "                                                     [key], {});\n",
              "          if (!dataTable) return;\n",
              "\n",
              "          const docLinkHtml = 'Like what you see? Visit the ' +\n",
              "            '<a target=\"_blank\" href=https://colab.research.google.com/notebooks/data_table.ipynb>data table notebook</a>'\n",
              "            + ' to learn more about interactive tables.';\n",
              "          element.innerHTML = '';\n",
              "          dataTable['output_type'] = 'display_data';\n",
              "          await google.colab.output.renderOutput(dataTable, element);\n",
              "          const docLink = document.createElement('div');\n",
              "          docLink.innerHTML = docLinkHtml;\n",
              "          element.appendChild(docLink);\n",
              "        }\n",
              "      </script>\n",
              "    </div>\n",
              "  </div>\n",
              "  "
            ]
          },
          "metadata": {},
          "execution_count": 46
        }
      ],
      "source": [
        "pd.DataFrame(feat_imp)"
      ]
    }
  ],
  "metadata": {
    "colab": {
      "provenance": []
    },
    "kernelspec": {
      "display_name": "Python 3",
      "name": "python3"
    },
    "language_info": {
      "name": "python"
    }
  },
  "nbformat": 4,
  "nbformat_minor": 0
}